{
 "cells": [
  {
   "cell_type": "markdown",
   "metadata": {},
   "source": [
    "# Forecasting Electricity Consumption with Support Vector Regression"
   ]
  },
  {
   "cell_type": "markdown",
   "metadata": {},
   "source": [
    "This iPython notebook composed by Justin Elszasz."
   ]
  },
  {
   "cell_type": "markdown",
   "metadata": {},
   "source": [
    "This notebook describes the process of training a support vector regression model for predicting electricity consumption based on several weather variables, the hour of the day, and whether the day was a weekend/holiday/work-from-home-day or just a normal weekday."
   ]
  },
  {
   "cell_type": "markdown",
   "metadata": {},
   "source": [
    "\n"
   ]
  },
  {
   "cell_type": "code",
   "execution_count": 3,
   "metadata": {
    "collapsed": false
   },
   "outputs": [
    {
     "name": "stdout",
     "output_type": "stream",
     "text": [
      "Populating the interactive namespace from numpy and matplotlib\n"
     ]
    }
   ],
   "source": [
    "%pylab inline"
   ]
  },
  {
   "cell_type": "code",
   "execution_count": 4,
   "metadata": {
    "collapsed": false
   },
   "outputs": [],
   "source": [
    "import pandas as pd\n",
    "import numpy as np\n",
    "from matplotlib import pyplot as plt"
   ]
  },
  {
   "cell_type": "code",
   "execution_count": 5,
   "metadata": {
    "collapsed": false
   },
   "outputs": [],
   "source": [
    "# some nice colors - like Dad always said, it's better to look good than to be good\n",
    "\n",
    "gray_light = '#d4d4d2'\n",
    "gray_med = '#737373'\n",
    "red_orange = '#ff3700'"
   ]
  },
  {
   "cell_type": "code",
   "execution_count": 6,
   "metadata": {
    "collapsed": false
   },
   "outputs": [
    {
     "data": {
      "text/html": [
       "<div style=\"max-height:1000px;max-width:1500px;overflow:auto;\">\n",
       "<table border=\"1\" class=\"dataframe\">\n",
       "  <thead>\n",
       "    <tr style=\"text-align: right;\">\n",
       "      <th></th>\n",
       "      <th>hum</th>\n",
       "      <th>tempF</th>\n",
       "      <th>USAGE</th>\n",
       "      <th>timestamp_end</th>\n",
       "      <th>wspdMPH</th>\n",
       "    </tr>\n",
       "    <tr>\n",
       "      <th>timestamp</th>\n",
       "      <th></th>\n",
       "      <th></th>\n",
       "      <th></th>\n",
       "      <th></th>\n",
       "      <th></th>\n",
       "    </tr>\n",
       "  </thead>\n",
       "  <tbody>\n",
       "    <tr>\n",
       "      <th>2014-01-18 00:00:00</th>\n",
       "      <td> 56</td>\n",
       "      <td> 39.2</td>\n",
       "      <td> 1.13</td>\n",
       "      <td> 2014-01-18 00:59:00</td>\n",
       "      <td> 4.588</td>\n",
       "    </tr>\n",
       "    <tr>\n",
       "      <th>2014-01-18 01:00:00</th>\n",
       "      <td> 61</td>\n",
       "      <td> 39.2</td>\n",
       "      <td> 0.98</td>\n",
       "      <td> 2014-01-18 01:59:00</td>\n",
       "      <td> 4.588</td>\n",
       "    </tr>\n",
       "    <tr>\n",
       "      <th>2014-01-18 02:00:00</th>\n",
       "      <td> 61</td>\n",
       "      <td> 39.2</td>\n",
       "      <td> 0.94</td>\n",
       "      <td> 2014-01-18 02:59:00</td>\n",
       "      <td> 4.588</td>\n",
       "    </tr>\n",
       "    <tr>\n",
       "      <th>2014-01-18 03:00:00</th>\n",
       "      <td> 65</td>\n",
       "      <td> 39.2</td>\n",
       "      <td> 1.11</td>\n",
       "      <td> 2014-01-18 03:59:00</td>\n",
       "      <td> 4.588</td>\n",
       "    </tr>\n",
       "    <tr>\n",
       "      <th>2014-01-18 04:00:00</th>\n",
       "      <td> 70</td>\n",
       "      <td> 39.2</td>\n",
       "      <td> 1.34</td>\n",
       "      <td> 2014-01-18 04:59:00</td>\n",
       "      <td> 4.588</td>\n",
       "    </tr>\n",
       "  </tbody>\n",
       "</table>\n",
       "</div>"
      ],
      "text/plain": [
       "                     hum  tempF  USAGE        timestamp_end  wspdMPH\n",
       "timestamp                                                           \n",
       "2014-01-18 00:00:00   56   39.2   1.13  2014-01-18 00:59:00    4.588\n",
       "2014-01-18 01:00:00   61   39.2   0.98  2014-01-18 01:59:00    4.588\n",
       "2014-01-18 02:00:00   61   39.2   0.94  2014-01-18 02:59:00    4.588\n",
       "2014-01-18 03:00:00   65   39.2   1.11  2014-01-18 03:59:00    4.588\n",
       "2014-01-18 04:00:00   70   39.2   1.34  2014-01-18 04:59:00    4.588"
      ]
     },
     "execution_count": 6,
     "metadata": {},
     "output_type": "execute_result"
    }
   ],
   "source": [
    "# Import the BGE hourly electricity data and weather data using import_funcs.py class\n",
    "elec = pd.read_csv('data/elec_hourly_oldApt_2014-04-30.csv', parse_dates=True, index_col=0)\n",
    "weather = pd.read_csv('data/weather_2015-02-01.csv', parse_dates=True, index_col=0)\n",
    "\n",
    "# Merge into one Pandas dataframe\n",
    "elec_and_weather = pd.merge(weather, elec, left_index=True, right_index=True)\n",
    "\n",
    "# Remove unnecessary fields from dataframe\n",
    "del elec_and_weather['tempm'], elec_and_weather['COST'], elec_and_weather['UNITS']\n",
    "del elec_and_weather['precipm']\n",
    "\n",
    "# Convert windspeed to MPH for my feeble brain to interpret\n",
    "elec_and_weather['wspdMPH'] = elec_and_weather['wspdm'] * 0.62\n",
    "del elec_and_weather['wspdm']\n",
    "\n",
    "elec_and_weather.head()"
   ]
  },
  {
   "cell_type": "markdown",
   "metadata": {},
   "source": [
    "I want to distinguish typical weekdays from any weekends, holidays and days I worked from home.  I don't think any of those categories have enough of their own examples in order to qualify them as their own set so for now all normal weekdays are 0, all holidays, weekends, and work-from-home days are 1's.  "
   ]
  },
  {
   "cell_type": "code",
   "execution_count": 8,
   "metadata": {
    "collapsed": false
   },
   "outputs": [
    {
     "name": "stderr",
     "output_type": "stream",
     "text": [
      "/Users/Justin/Library/Enthought/Canopy_64bit/User/lib/python2.7/site-packages/ipykernel/__main__.py:5: SettingWithCopyWarning: \n",
      "A value is trying to be set on a copy of a slice from a DataFrame\n",
      "\n",
      "See the the caveats in the documentation: http://pandas.pydata.org/pandas-docs/stable/indexing.html#indexing-view-versus-copy\n",
      "/Users/Justin/Library/Enthought/Canopy_64bit/User/lib/python2.7/site-packages/ipykernel/__main__.py:12: SettingWithCopyWarning: \n",
      "A value is trying to be set on a copy of a slice from a DataFrame\n",
      "\n",
      "See the the caveats in the documentation: http://pandas.pydata.org/pandas-docs/stable/indexing.html#indexing-view-versus-copy\n",
      "/Users/Justin/Library/Enthought/Canopy_64bit/User/lib/python2.7/site-packages/ipykernel/__main__.py:15: SettingWithCopyWarning: \n",
      "A value is trying to be set on a copy of a slice from a DataFrame\n",
      "\n",
      "See the the caveats in the documentation: http://pandas.pydata.org/pandas-docs/stable/indexing.html#indexing-view-versus-copy\n"
     ]
    },
    {
     "data": {
      "text/html": [
       "<div style=\"max-height:1000px;max-width:1500px;overflow:auto;\">\n",
       "<table border=\"1\" class=\"dataframe\">\n",
       "  <thead>\n",
       "    <tr style=\"text-align: right;\">\n",
       "      <th></th>\n",
       "      <th>hum</th>\n",
       "      <th>tempF</th>\n",
       "      <th>USAGE</th>\n",
       "      <th>timestamp_end</th>\n",
       "      <th>wspdMPH</th>\n",
       "      <th>Atypical_Day</th>\n",
       "    </tr>\n",
       "    <tr>\n",
       "      <th>timestamp</th>\n",
       "      <th></th>\n",
       "      <th></th>\n",
       "      <th></th>\n",
       "      <th></th>\n",
       "      <th></th>\n",
       "      <th></th>\n",
       "    </tr>\n",
       "  </thead>\n",
       "  <tbody>\n",
       "    <tr>\n",
       "      <th>2014-01-18 00:00:00</th>\n",
       "      <td> 56</td>\n",
       "      <td> 39.2</td>\n",
       "      <td> 1.13</td>\n",
       "      <td> 2014-01-18 00:59:00</td>\n",
       "      <td> 4.588</td>\n",
       "      <td> 1</td>\n",
       "    </tr>\n",
       "    <tr>\n",
       "      <th>2014-01-18 01:00:00</th>\n",
       "      <td> 61</td>\n",
       "      <td> 39.2</td>\n",
       "      <td> 0.98</td>\n",
       "      <td> 2014-01-18 01:59:00</td>\n",
       "      <td> 4.588</td>\n",
       "      <td> 1</td>\n",
       "    </tr>\n",
       "    <tr>\n",
       "      <th>2014-01-18 02:00:00</th>\n",
       "      <td> 61</td>\n",
       "      <td> 39.2</td>\n",
       "      <td> 0.94</td>\n",
       "      <td> 2014-01-18 02:59:00</td>\n",
       "      <td> 4.588</td>\n",
       "      <td> 1</td>\n",
       "    </tr>\n",
       "  </tbody>\n",
       "</table>\n",
       "</div>"
      ],
      "text/plain": [
       "                     hum  tempF  USAGE        timestamp_end  wspdMPH  \\\n",
       "timestamp                                                              \n",
       "2014-01-18 00:00:00   56   39.2   1.13  2014-01-18 00:59:00    4.588   \n",
       "2014-01-18 01:00:00   61   39.2   0.98  2014-01-18 01:59:00    4.588   \n",
       "2014-01-18 02:00:00   61   39.2   0.94  2014-01-18 02:59:00    4.588   \n",
       "\n",
       "                     Atypical_Day  \n",
       "timestamp                          \n",
       "2014-01-18 00:00:00             1  \n",
       "2014-01-18 01:00:00             1  \n",
       "2014-01-18 02:00:00             1  "
      ]
     },
     "execution_count": 8,
     "metadata": {},
     "output_type": "execute_result"
    }
   ],
   "source": [
    "# Set weekends and holidays to 1, otherwise 0\n",
    "elec_and_weather['Atypical_Day'] = np.zeros(len(elec_and_weather['USAGE']))\n",
    "\n",
    "# Weekends\n",
    "elec_and_weather['Atypical_Day'][(elec_and_weather.index.dayofweek==5)|(elec_and_weather.index.dayofweek==6)] = 1\n",
    "\n",
    "# Holidays, days I worked from home\n",
    "holidays = ['2014-01-01','2014-01-20']\n",
    "work_from_home = ['2014-01-21','2014-02-13','2014-03-03','2014-04-04']\n",
    "\n",
    "for i in range(len(holidays)):\n",
    "    elec_and_weather['Atypical_Day'][elec_and_weather.index.date==np.datetime64(holidays[i])] = 1\n",
    "\n",
    "for i in range(len(work_from_home)):\n",
    "    elec_and_weather['Atypical_Day'][elec_and_weather.index.date==np.datetime64(work_from_home[i])] = 1\n",
    "    \n",
    "elec_and_weather.head(3)"
   ]
  },
  {
   "cell_type": "markdown",
   "metadata": {},
   "source": [
    "For this case each hour of the day is a categorical variable, not continuous. The doing the analysis will require \"yes\" or \"no\" corresponding to each hour of the day."
   ]
  },
  {
   "cell_type": "code",
   "execution_count": 9,
   "metadata": {
    "collapsed": false
   },
   "outputs": [
    {
     "name": "stderr",
     "output_type": "stream",
     "text": [
      "/Users/Justin/Library/Enthought/Canopy_64bit/User/lib/python2.7/site-packages/ipykernel/__main__.py:5: SettingWithCopyWarning: \n",
      "A value is trying to be set on a copy of a slice from a DataFrame\n",
      "\n",
      "See the the caveats in the documentation: http://pandas.pydata.org/pandas-docs/stable/indexing.html#indexing-view-versus-copy\n"
     ]
    },
    {
     "data": {
      "text/plain": [
       "timestamp\n",
       "2014-01-18 00:00:00    0\n",
       "2014-01-18 01:00:00    0\n",
       "2014-01-18 02:00:00    0\n",
       "Name: 3, dtype: float64"
      ]
     },
     "execution_count": 9,
     "metadata": {},
     "output_type": "execute_result"
    }
   ],
   "source": [
    "# Create new column for each hour of day, assign 1 if index.hour is corresponding hour of column, 0 otherwise\n",
    "\n",
    "for i in range(0,24):\n",
    "    elec_and_weather[i] = np.zeros(len(elec_and_weather['USAGE']))\n",
    "    elec_and_weather[i][elec_and_weather.index.hour==i] = 1\n",
    "    \n",
    "# Example 3am\n",
    "elec_and_weather[3][:3]"
   ]
  },
  {
   "cell_type": "markdown",
   "metadata": {},
   "source": [
    "If I want to predict the next hour's energy consumption, any given X vector/Y target pair in the training data should provide the current hour's electricity use (target) with the previous hour's (or however many past hours are used) weather data and usage (X vector)."
   ]
  },
  {
   "cell_type": "code",
   "execution_count": 10,
   "metadata": {
    "collapsed": false
   },
   "outputs": [
    {
     "name": "stderr",
     "output_type": "stream",
     "text": [
      "/Users/Justin/Library/Enthought/Canopy_64bit/User/lib/python2.7/site-packages/ipykernel/__main__.py:24: SettingWithCopyWarning: \n",
      "A value is trying to be set on a copy of a slice from a DataFrame\n",
      "\n",
      "See the the caveats in the documentation: http://pandas.pydata.org/pandas-docs/stable/indexing.html#indexing-view-versus-copy\n"
     ]
    },
    {
     "data": {
      "text/html": [
       "<div style=\"max-height:1000px;max-width:1500px;overflow:auto;\">\n",
       "<table border=\"1\" class=\"dataframe\">\n",
       "  <thead>\n",
       "    <tr style=\"text-align: right;\">\n",
       "      <th></th>\n",
       "      <th>hum</th>\n",
       "      <th>tempF</th>\n",
       "      <th>USAGE</th>\n",
       "      <th>timestamp_end</th>\n",
       "      <th>wspdMPH</th>\n",
       "      <th>Atypical_Day</th>\n",
       "      <th>0</th>\n",
       "      <th>1</th>\n",
       "      <th>2</th>\n",
       "      <th>3</th>\n",
       "      <th>...</th>\n",
       "      <th>USAGE_t-3</th>\n",
       "      <th>USAGE_t-4</th>\n",
       "      <th>USAGE_t-5</th>\n",
       "      <th>USAGE_t-6</th>\n",
       "      <th>USAGE_t-7</th>\n",
       "      <th>USAGE_t-8</th>\n",
       "      <th>USAGE_t-9</th>\n",
       "      <th>USAGE_t-10</th>\n",
       "      <th>USAGE_t-11</th>\n",
       "      <th>USAGE_t-12</th>\n",
       "    </tr>\n",
       "    <tr>\n",
       "      <th>timestamp</th>\n",
       "      <th></th>\n",
       "      <th></th>\n",
       "      <th></th>\n",
       "      <th></th>\n",
       "      <th></th>\n",
       "      <th></th>\n",
       "      <th></th>\n",
       "      <th></th>\n",
       "      <th></th>\n",
       "      <th></th>\n",
       "      <th></th>\n",
       "      <th></th>\n",
       "      <th></th>\n",
       "      <th></th>\n",
       "      <th></th>\n",
       "      <th></th>\n",
       "      <th></th>\n",
       "      <th></th>\n",
       "      <th></th>\n",
       "      <th></th>\n",
       "      <th></th>\n",
       "    </tr>\n",
       "  </thead>\n",
       "  <tbody>\n",
       "    <tr>\n",
       "      <th>2014-01-18 13:00:00</th>\n",
       "      <td> 75</td>\n",
       "      <td> 37.4</td>\n",
       "      <td> 1.60</td>\n",
       "      <td> 2014-01-18 13:59:00</td>\n",
       "      <td> 4.588</td>\n",
       "      <td> 1</td>\n",
       "      <td> 0</td>\n",
       "      <td> 0</td>\n",
       "      <td> 0</td>\n",
       "      <td> 0</td>\n",
       "      <td>...</td>\n",
       "      <td> 1.54</td>\n",
       "      <td> 1.56</td>\n",
       "      <td> 1.44</td>\n",
       "      <td> 1.26</td>\n",
       "      <td> 1.33</td>\n",
       "      <td> 1.16</td>\n",
       "      <td> 1.34</td>\n",
       "      <td> 1.11</td>\n",
       "      <td> 0.94</td>\n",
       "      <td> 0.98</td>\n",
       "    </tr>\n",
       "    <tr>\n",
       "      <th>2014-01-18 14:00:00</th>\n",
       "      <td> 75</td>\n",
       "      <td> 37.4</td>\n",
       "      <td> 1.68</td>\n",
       "      <td> 2014-01-18 14:59:00</td>\n",
       "      <td> 4.588</td>\n",
       "      <td> 1</td>\n",
       "      <td> 0</td>\n",
       "      <td> 0</td>\n",
       "      <td> 0</td>\n",
       "      <td> 0</td>\n",
       "      <td>...</td>\n",
       "      <td> 1.87</td>\n",
       "      <td> 1.54</td>\n",
       "      <td> 1.56</td>\n",
       "      <td> 1.44</td>\n",
       "      <td> 1.26</td>\n",
       "      <td> 1.33</td>\n",
       "      <td> 1.16</td>\n",
       "      <td> 1.34</td>\n",
       "      <td> 1.11</td>\n",
       "      <td> 0.94</td>\n",
       "    </tr>\n",
       "    <tr>\n",
       "      <th>2014-01-18 15:00:00</th>\n",
       "      <td> 60</td>\n",
       "      <td> 37.4</td>\n",
       "      <td> 1.43</td>\n",
       "      <td> 2014-01-18 15:59:00</td>\n",
       "      <td> 4.588</td>\n",
       "      <td> 1</td>\n",
       "      <td> 0</td>\n",
       "      <td> 0</td>\n",
       "      <td> 0</td>\n",
       "      <td> 0</td>\n",
       "      <td>...</td>\n",
       "      <td> 1.88</td>\n",
       "      <td> 1.87</td>\n",
       "      <td> 1.54</td>\n",
       "      <td> 1.56</td>\n",
       "      <td> 1.44</td>\n",
       "      <td> 1.26</td>\n",
       "      <td> 1.33</td>\n",
       "      <td> 1.16</td>\n",
       "      <td> 1.34</td>\n",
       "      <td> 1.11</td>\n",
       "    </tr>\n",
       "  </tbody>\n",
       "</table>\n",
       "<p>3 rows × 42 columns</p>\n",
       "</div>"
      ],
      "text/plain": [
       "                     hum  tempF  USAGE        timestamp_end  wspdMPH  \\\n",
       "timestamp                                                              \n",
       "2014-01-18 13:00:00   75   37.4   1.60  2014-01-18 13:59:00    4.588   \n",
       "2014-01-18 14:00:00   75   37.4   1.68  2014-01-18 14:59:00    4.588   \n",
       "2014-01-18 15:00:00   60   37.4   1.43  2014-01-18 15:59:00    4.588   \n",
       "\n",
       "                     Atypical_Day  0  1  2  3     ...      USAGE_t-3  \\\n",
       "timestamp                                         ...                  \n",
       "2014-01-18 13:00:00             1  0  0  0  0     ...           1.54   \n",
       "2014-01-18 14:00:00             1  0  0  0  0     ...           1.87   \n",
       "2014-01-18 15:00:00             1  0  0  0  0     ...           1.88   \n",
       "\n",
       "                     USAGE_t-4  USAGE_t-5  USAGE_t-6  USAGE_t-7  USAGE_t-8  \\\n",
       "timestamp                                                                    \n",
       "2014-01-18 13:00:00       1.56       1.44       1.26       1.33       1.16   \n",
       "2014-01-18 14:00:00       1.54       1.56       1.44       1.26       1.33   \n",
       "2014-01-18 15:00:00       1.87       1.54       1.56       1.44       1.26   \n",
       "\n",
       "                     USAGE_t-9  USAGE_t-10  USAGE_t-11  USAGE_t-12  \n",
       "timestamp                                                           \n",
       "2014-01-18 13:00:00       1.34        1.11        0.94        0.98  \n",
       "2014-01-18 14:00:00       1.16        1.34        1.11        0.94  \n",
       "2014-01-18 15:00:00       1.33        1.16        1.34        1.11  \n",
       "\n",
       "[3 rows x 42 columns]"
      ]
     },
     "execution_count": 10,
     "metadata": {},
     "output_type": "execute_result"
    }
   ],
   "source": [
    "%time\n",
    "# Add historic usage to each X vector\n",
    "\n",
    "# Set number of hours prediction is in advance\n",
    "n_hours_advance = 1\n",
    "\n",
    "# Set number of historic hours used\n",
    "n_hours_window = 12\n",
    "\n",
    "# need to do this for range function\n",
    "#n_hours_window += 1\n",
    "\n",
    "for k in range(n_hours_advance,n_hours_advance+n_hours_window):\n",
    "    \n",
    "    elec_and_weather['USAGE_t-%i'% k] = np.zeros(len(elec_and_weather['USAGE']))\n",
    "    #elec_and_weather['tempF_t-%i'% k] = np.zeros(len(elec_and_weather['tempF']))\n",
    "    #elec_and_weather['hum_t-%i'% k] = np.zeros(len(elec_and_weather['hum']))\n",
    "    #elec_and_weather['wspdMPH_t-%i'% k] = np.zeros(len(elec_and_weather['wspdMPH']))\n",
    "    \n",
    "    \n",
    "for i in range(n_hours_advance+n_hours_window,len(elec_and_weather['USAGE'])):\n",
    "    \n",
    "    for j in range(n_hours_advance,n_hours_advance+n_hours_window):\n",
    "        \n",
    "        elec_and_weather['USAGE_t-%i'% j][i] = elec_and_weather['USAGE'][i-j]\n",
    "        #elec_and_weather['tempF_t-%i'% j][i] = elec_and_weather['tempF'][i-j]\n",
    "        #elec_and_weather['wspdMPH_t-%i'% j][i] = elec_and_weather['wspdMPH'][i-j]\n",
    "        #elec_and_weather['hum_t-%i'% j][i] = elec_and_weather['hum'][i-j]\n",
    "\n",
    "elec_and_weather = elec_and_weather.ix[n_hours_advance+n_hours_window:]\n",
    "        \n",
    "elec_and_weather.head(3)\n"
   ]
  },
  {
   "cell_type": "markdown",
   "metadata": {},
   "source": [
    "Since this is time series data, it makes more sense to define training and testing periods, rather than random sporadic data points.  If it weren't a time series, we could select a random sample to segregate for a testing set.  "
   ]
  },
  {
   "cell_type": "code",
   "execution_count": 11,
   "metadata": {
    "collapsed": false
   },
   "outputs": [],
   "source": [
    "# Define training and testing periods\n",
    "\n",
    "train_start = '18-jan-2014'\n",
    "train_end = '24-march-2014'\n",
    "test_start = '25-march-2014'\n",
    "test_end = '31-march-2014'\n"
   ]
  },
  {
   "cell_type": "code",
   "execution_count": 12,
   "metadata": {
    "collapsed": false
   },
   "outputs": [],
   "source": [
    "from sklearn import svm\n",
    "from sklearn import cross_validation\n",
    "from sklearn import preprocessing as pre"
   ]
  },
  {
   "cell_type": "code",
   "execution_count": 28,
   "metadata": {
    "collapsed": false
   },
   "outputs": [],
   "source": [
    "# Set up dataframes for building SVR model\n",
    "\n",
    "# Need to keep only the t-1 variables for predicting the next hour\n",
    "X_train_df = elec_and_weather[train_start:train_end]\n",
    "del X_train_df['USAGE']\n",
    "del X_train_df['timestamp_end']\n",
    "#del X_train_df['hum']\n",
    "#del X_train_df['tempF']\n",
    "del X_train_df['wspdMPH']\n",
    "\n",
    "y_train_df = elec_and_weather['USAGE'][train_start:train_end]\n",
    "\n",
    "X_test_df = elec_and_weather[test_start:test_end]\n",
    "del X_test_df['USAGE']\n",
    "del X_test_df['timestamp_end']\n",
    "#del X_test_df['hum']\n",
    "#del X_test_df['tempF']\n",
    "del X_test_df['wspdMPH']\n",
    "\n",
    "y_test_df = elec_and_weather['USAGE'][test_start:test_end]"
   ]
  },
  {
   "cell_type": "code",
   "execution_count": 29,
   "metadata": {
    "collapsed": false
   },
   "outputs": [],
   "source": [
    "X_train_df.to_csv('output/training_set.csv')"
   ]
  },
  {
   "cell_type": "code",
   "execution_count": 30,
   "metadata": {
    "collapsed": false
   },
   "outputs": [
    {
     "name": "stdout",
     "output_type": "stream",
     "text": [
      "                     hum  tempF  Atypical_Day  0  1  2  3  4  5  6  \\\n",
      "timestamp                                                            \n",
      "2014-01-18 13:00:00   75   37.4             1  0  0  0  0  0  0  0   \n",
      "2014-01-18 14:00:00   75   37.4             1  0  0  0  0  0  0  0   \n",
      "2014-01-18 15:00:00   60   37.4             1  0  0  0  0  0  0  0   \n",
      "2014-01-18 16:00:00   56   35.6             1  0  0  0  0  0  0  0   \n",
      "2014-01-18 17:00:00   56   35.6             1  0  0  0  0  0  0  0   \n",
      "\n",
      "                        ...      USAGE_t-3  USAGE_t-4  USAGE_t-5  USAGE_t-6  \\\n",
      "timestamp               ...                                                   \n",
      "2014-01-18 13:00:00     ...           1.54       1.56       1.44       1.26   \n",
      "2014-01-18 14:00:00     ...           1.87       1.54       1.56       1.44   \n",
      "2014-01-18 15:00:00     ...           1.88       1.87       1.54       1.56   \n",
      "2014-01-18 16:00:00     ...           1.60       1.88       1.87       1.54   \n",
      "2014-01-18 17:00:00     ...           1.68       1.60       1.88       1.87   \n",
      "\n",
      "                     USAGE_t-7  USAGE_t-8  USAGE_t-9  USAGE_t-10  USAGE_t-11  \\\n",
      "timestamp                                                                      \n",
      "2014-01-18 13:00:00       1.33       1.16       1.34        1.11        0.94   \n",
      "2014-01-18 14:00:00       1.26       1.33       1.16        1.34        1.11   \n",
      "2014-01-18 15:00:00       1.44       1.26       1.33        1.16        1.34   \n",
      "2014-01-18 16:00:00       1.56       1.44       1.26        1.33        1.16   \n",
      "2014-01-18 17:00:00       1.54       1.56       1.44        1.26        1.33   \n",
      "\n",
      "                     USAGE_t-12  \n",
      "timestamp                        \n",
      "2014-01-18 13:00:00        0.98  \n",
      "2014-01-18 14:00:00        0.94  \n",
      "2014-01-18 15:00:00        1.11  \n",
      "2014-01-18 16:00:00        1.34  \n",
      "2014-01-18 17:00:00        1.16  \n",
      "\n",
      "[5 rows x 39 columns] 1569\n"
     ]
    }
   ],
   "source": [
    "N_train = len(X_train_df[0])\n",
    "print X_train_df[:5], N_train\n"
   ]
  },
  {
   "cell_type": "code",
   "execution_count": 31,
   "metadata": {
    "collapsed": false
   },
   "outputs": [],
   "source": [
    "# Numpy arrays for sklearn\n",
    "X_train = np.array(X_train_df)\n",
    "X_test = np.array(X_test_df)\n",
    "y_train = np.array(y_train_df)\n",
    "y_test = np.array(y_test_df)"
   ]
  },
  {
   "cell_type": "code",
   "execution_count": null,
   "metadata": {
    "collapsed": false
   },
   "outputs": [],
   "source": []
  },
  {
   "cell_type": "markdown",
   "metadata": {},
   "source": [
    "Preprocessing.  StandardScaler() from the \"preprocessing\" module in \"sklearn\" "
   ]
  },
  {
   "cell_type": "code",
   "execution_count": 32,
   "metadata": {
    "collapsed": false
   },
   "outputs": [],
   "source": [
    "from sklearn import preprocessing as pre\n",
    "scaler = pre.StandardScaler().fit(X_train)\n",
    "X_train_scaled = scaler.transform(X_train)\n",
    "X_test_scaled = scaler.transform(X_test)"
   ]
  },
  {
   "cell_type": "markdown",
   "metadata": {},
   "source": [
    "This trains the support vector regression model."
   ]
  },
  {
   "cell_type": "code",
   "execution_count": 33,
   "metadata": {
    "collapsed": false
   },
   "outputs": [
    {
     "name": "stdout",
     "output_type": "stream",
     "text": [
      "Testing R^2 = 0.788\n"
     ]
    }
   ],
   "source": [
    "SVR_model = svm.SVR(kernel='rbf',C=100,gamma=.001).fit(X_train_scaled,y_train)\n",
    "print 'Testing R^2 =', round(SVR_model.score(X_test_scaled,y_test),3)"
   ]
  },
  {
   "cell_type": "markdown",
   "metadata": {},
   "source": [
    "Calculate next-hour forecast (predict!)"
   ]
  },
  {
   "cell_type": "code",
   "execution_count": 34,
   "metadata": {
    "collapsed": false
   },
   "outputs": [],
   "source": [
    "# Use SVR model to calculate predicted next-hour usage\n",
    "predict_y_array = SVR_model.predict(X_test_scaled)\n",
    "\n",
    "# Put it in a Pandas dataframe for ease of use\n",
    "predict_y = pd.DataFrame(predict_y_array,columns=['USAGE'])\n",
    "predict_y.index = X_test_df.index"
   ]
  },
  {
   "cell_type": "markdown",
   "metadata": {},
   "source": [
    "Plot time series of actual and predicted electricity demand over the testing period."
   ]
  },
  {
   "cell_type": "code",
   "execution_count": 35,
   "metadata": {
    "collapsed": false
   },
   "outputs": [
    {
     "data": {
      "image/png": "[encoded data removed]",
      "text/plain": [
       "<matplotlib.figure.Figure at 0x10eb15f50>"
      ]
     },
     "metadata": {},
     "output_type": "display_data"
    }
   ],
   "source": [
    "# Plot the predicted values and actual\n",
    "import matplotlib.dates as dates\n",
    "\n",
    "plot_start = test_start\n",
    "plot_end = test_end\n",
    "\n",
    "fig = plt.figure(figsize=[8,5])\n",
    "ax = fig.add_subplot(111)\n",
    "plt.plot(y_test_df.index,y_test_df,color=gray_med,linewidth=1)\n",
    "plt.plot(predict_y.index,predict_y,color=red_orange,linewidth=1)\n",
    "plt.ylabel('Electricity Usage (kWh)')\n",
    "plt.ylim([0,2])\n",
    "plt.legend(['Actual','Predicted'],loc='best')\n",
    "ax.xaxis.set_major_formatter(dates.DateFormatter('%b %d'))\n",
    "\n",
    "#fig.savefig('SVM_predict_TS.png')"
   ]
  },
  {
   "cell_type": "markdown",
   "metadata": {},
   "source": [
    "Plot actual vs. prediced usage.  If prediction were perfect, all points would be on 45 degree line (y=x).\n"
   ]
  },
  {
   "cell_type": "code",
   "execution_count": 36,
   "metadata": {
    "collapsed": false
   },
   "outputs": [
    {
     "data": {
      "text/plain": [
       "<matplotlib.text.Text at 0x10f27a490>"
      ]
     },
     "execution_count": 36,
     "metadata": {},
     "output_type": "execute_result"
    },
    {
     "data": {
      "image/png": "[encoded data removed]",
      "text/plain": [
       "<matplotlib.figure.Figure at 0x10f0f0a50>"
      ]
     },
     "metadata": {},
     "output_type": "display_data"
    }
   ],
   "source": [
    "fig = plt.figure(figsize=(4,4))\n",
    "plot = plt.plot(y_test_df,predict_y,color=red_orange,marker='.',linewidth=0,markersize=10,alpha=.4)\n",
    "plot45 = plt.plot([0,2],[0,2],'k')\n",
    "plt.xlim([0,2])\n",
    "plt.ylim([0,2])\n",
    "plt.xlabel('Actual Hourly Elec. Usage (kWh)')\n",
    "plt.ylabel('Predicted Hourly Elec. Usage (kWh)')\n",
    "\n",
    "#fig.savefig('SVM_plot_errors.png')"
   ]
  },
  {
   "cell_type": "markdown",
   "metadata": {},
   "source": [
    "The following plots the time series of actual and predicted electricity demand for a given time period."
   ]
  },
  {
   "cell_type": "code",
   "execution_count": 37,
   "metadata": {
    "collapsed": false
   },
   "outputs": [
    {
     "data": {
      "image/png": "[encoded data removed]",
      "text/plain": [
       "<matplotlib.figure.Figure at 0x10f17c550>"
      ]
     },
     "metadata": {},
     "output_type": "display_data"
    }
   ],
   "source": [
    "#plot_start = test_start\n",
    "#plot_end = test_end\n",
    "plot_start = '25-mar-2014 00:00:00'\n",
    "plot_end = '26-mar-2014 23:00:00'\n",
    "xticks = pd.date_range(start=plot_start, end=plot_end, freq='6H')\n",
    "\n",
    "fig = plt.figure(figsize=[10,4])\n",
    "ax = fig.add_subplot(111)\n",
    "plot1 = plt.plot(predict_y[plot_start:plot_end].index,predict_y[plot_start:plot_end],color=red_orange,linewidth=3)\n",
    "plot2 = plt.plot(y_test_df[plot_start:plot_end].index,y_test_df[plot_start:plot_end],color=gray_med,linewidth=3)\n",
    "#plt_predict = plt.plot(predict_y[plot_start:plot_end].index,predict_y[plot_start:plot_end])\n",
    "#plt_actual = plt.plot(y_test_df[plot_start:plot_end].index,y_test_df[plot_start:plot_end])\n",
    "plt.ylabel('Electricity Usage (kWh)')\n",
    "plt.ylim([0,2])\n",
    "plt.xticks(xticks)\n",
    "plt.title('Support Vector Regression')\n",
    "plt.legend(['Predicted','Actual'],loc='best')\n",
    "#ax.xaxis.set_major_locator()\n",
    "ax.xaxis.set_major_formatter(dates.DateFormatter('%H:00 \\n%a \\n%b %d'))\n",
    "#dates.HourLocator(interval=12)\n",
    "\n",
    "\n",
    "#fig.savefig('SVM_predict_TS_zoom.png')"
   ]
  },
  {
   "cell_type": "code",
   "execution_count": 38,
   "metadata": {
    "collapsed": false
   },
   "outputs": [
    {
     "data": {
      "image/png": "[encoded data removed]",
      "text/plain": [
       "<matplotlib.figure.Figure at 0x10eb51850>"
      ]
     },
     "metadata": {},
     "output_type": "display_data"
    }
   ],
   "source": [
    "# Plot daily total kWh over testing period\n",
    "y_test_barplot_df = pd.DataFrame(y_test_df,columns=['USAGE'])\n",
    "y_test_barplot_df['Predicted'] = predict_y['USAGE']\n",
    "\n",
    "fig = plt.figure()\n",
    "ax = fig.add_subplot(111)\n",
    "y_test_barplot_df.resample('d',how='sum').plot(kind='bar',ax=ax,color=[gray_light,red_orange])\n",
    "ax.grid(False)\n",
    "ax.set_ylabel('Total Daily Electricity Usage (kWh)')\n",
    "ax.set_xlabel('')\n",
    "# Pandas/Matplotlib bar graphs convert xaxis to floats, so need a hack to get datetimes back\n",
    "ax.set_xticklabels([dt.strftime('%b %d') for dt in y_test_df.resample('d',how='sum').index.to_pydatetime()],rotation=0)\n",
    "plt.show()\n",
    "#fig.savefig('SVM_predict_DailyTotal.png')\n"
   ]
  },
  {
   "cell_type": "markdown",
   "metadata": {},
   "source": [
    "The following are some accuracy measures.  These are moved to the file errors.py for ease of use."
   ]
  },
  {
   "cell_type": "code",
   "execution_count": 39,
   "metadata": {
    "collapsed": false
   },
   "outputs": [
    {
     "name": "stdout",
     "output_type": "stream",
     "text": [
      "N_test =  168 \n",
      "MBE = 0.02 \n",
      "RMSE = 0.15 \n",
      "MAPE = 0.16 \n",
      "CV = 0.19\n"
     ]
    }
   ],
   "source": [
    "import errors\n",
    "\n",
    "N_test = len(y_test_df)\n",
    "MBE = (y_test_df-predict_y).sum()/(N_test-1)/y_test_df.mean()\n",
    "RMSE = pow(pow(y_test_df-predict_y,2).sum()/N_test,.5)\n",
    "MAPE = ((y_test_df-predict_y).abs()/y_test_df).mean()\n",
    "CV = pow(pow(y_test_df-predict_y,2).sum()/(N_test-1),.5)/y_test_df.mean()\n",
    "\n",
    "print 'N_test = ',N_test,'\\nMBE =',round(MBE['USAGE'],2),'\\nRMSE =',round(RMSE['USAGE'],2),'\\nMAPE =',round(MAPE['USAGE'],2),'\\nCV =',round(CV['USAGE'],2)"
   ]
  },
  {
   "cell_type": "code",
   "execution_count": 66,
   "metadata": {
    "collapsed": false
   },
   "outputs": [],
   "source": []
  },
  {
   "cell_type": "code",
   "execution_count": 66,
   "metadata": {
    "collapsed": false
   },
   "outputs": [],
   "source": []
  },
  {
   "cell_type": "code",
   "execution_count": 66,
   "metadata": {
    "collapsed": false
   },
   "outputs": [],
   "source": []
  },
  {
   "cell_type": "code",
   "execution_count": 49,
   "metadata": {
    "collapsed": false
   },
   "outputs": [],
   "source": []
  },
  {
   "cell_type": "code",
   "execution_count": 49,
   "metadata": {
    "collapsed": false
   },
   "outputs": [],
   "source": []
  }
 ],
 "metadata": {
  "kernelspec": {
   "display_name": "Python 2",
   "language": "python",
   "name": "python2"
  },
  "language_info": {
   "codemirror_mode": {
    "name": "ipython",
    "version": 2
   },
   "file_extension": ".py",
   "mimetype": "text/x-python",
   "name": "python",
   "nbconvert_exporter": "python",
   "pygments_lexer": "ipython2",
   "version": "2.7.6"
  }
 },
 "nbformat": 4,
 "nbformat_minor": 0
}
