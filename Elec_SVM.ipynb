{
 "metadata": {
  "name": "Elec_SVM"
 },
 "nbformat": 3,
 "nbformat_minor": 0,
 "worksheets": [
  {
   "cells": [
    {
     "cell_type": "heading",
     "level": 1,
     "metadata": {},
     "source": [
      "Forecasting Electricity Consumption with Support Vector Regression"
     ]
    },
    {
     "cell_type": "markdown",
     "metadata": {},
     "source": [
      "This iPython notebook composed by Justin Elszasz."
     ]
    },
    {
     "cell_type": "markdown",
     "metadata": {},
     "source": [
      "This notebook describes the process of training a support vector regression model for predicting electricity consumption based on several weather variables, the hour of the day, and whether the day was a weekend/holiday/work-from-home-day or just a normal weekday."
     ]
    },
    {
     "cell_type": "markdown",
     "metadata": {},
     "source": [
      "\n"
     ]
    },
    {
     "cell_type": "code",
     "collapsed": false,
     "input": [
      "%reset"
     ],
     "language": "python",
     "metadata": {},
     "outputs": [],
     "prompt_number": 1153
    },
    {
     "cell_type": "code",
     "collapsed": false,
     "input": [
      "import pandas as pd\n",
      "import numpy as np\n",
      "import import_funcs\n",
      "from matplotlib import pyplot as plt"
     ],
     "language": "python",
     "metadata": {},
     "outputs": [],
     "prompt_number": 1154
    },
    {
     "cell_type": "code",
     "collapsed": false,
     "input": [
      "# Import the BGE hourly electricity data and weather data using import_funcs.py class\n",
      "elec_data = import_funcs.BGEdata()\n",
      "weather = import_funcs.weather()\n",
      "\n",
      "# Merge into one Pandas dataframe\n",
      "elec_and_weather = pd.merge(weather,elec_data,left_index=True,right_index=True)\n",
      "\n",
      "# Clean up a bit\n",
      "del elec_and_weather['tempm'], elec_and_weather['COST'], elec_and_weather['NOTES'], elec_and_weather['UNITS'], elec_and_weather['TYPE']\n",
      "del elec_and_weather['precipm']\n",
      "\n",
      "elec_and_weather['wspdMPH'] = elec_and_weather['wspdm'] * 0.62\n",
      "del elec_and_weather['wspdm']\n",
      "\n",
      "elec_and_weather[:5]"
     ],
     "language": "python",
     "metadata": {},
     "outputs": [
      {
       "html": [
        "<div style=\"max-height:1000px;max-width:1500px;overflow:auto;\">\n",
        "<table border=\"1\" class=\"dataframe\">\n",
        "  <thead>\n",
        "    <tr style=\"text-align: right;\">\n",
        "      <th></th>\n",
        "      <th>hum</th>\n",
        "      <th>tempF</th>\n",
        "      <th>USAGE</th>\n",
        "      <th>timestamp_end</th>\n",
        "      <th>wspdMPH</th>\n",
        "    </tr>\n",
        "    <tr>\n",
        "      <th>timestamp</th>\n",
        "      <th></th>\n",
        "      <th></th>\n",
        "      <th></th>\n",
        "      <th></th>\n",
        "      <th></th>\n",
        "    </tr>\n",
        "  </thead>\n",
        "  <tbody>\n",
        "    <tr>\n",
        "      <th>2014-01-18 00:00:00</th>\n",
        "      <td> 56</td>\n",
        "      <td> 39.2</td>\n",
        "      <td> 1.13</td>\n",
        "      <td>2014-01-18 00:59:00</td>\n",
        "      <td> 4.588</td>\n",
        "    </tr>\n",
        "    <tr>\n",
        "      <th>2014-01-18 01:00:00</th>\n",
        "      <td> 61</td>\n",
        "      <td> 39.2</td>\n",
        "      <td> 0.98</td>\n",
        "      <td>2014-01-18 01:59:00</td>\n",
        "      <td> 4.588</td>\n",
        "    </tr>\n",
        "    <tr>\n",
        "      <th>2014-01-18 02:00:00</th>\n",
        "      <td> 61</td>\n",
        "      <td> 39.2</td>\n",
        "      <td> 0.94</td>\n",
        "      <td>2014-01-18 02:59:00</td>\n",
        "      <td> 4.588</td>\n",
        "    </tr>\n",
        "    <tr>\n",
        "      <th>2014-01-18 03:00:00</th>\n",
        "      <td> 65</td>\n",
        "      <td> 39.2</td>\n",
        "      <td> 1.11</td>\n",
        "      <td>2014-01-18 03:59:00</td>\n",
        "      <td> 4.588</td>\n",
        "    </tr>\n",
        "    <tr>\n",
        "      <th>2014-01-18 04:00:00</th>\n",
        "      <td> 70</td>\n",
        "      <td> 39.2</td>\n",
        "      <td> 1.34</td>\n",
        "      <td>2014-01-18 04:59:00</td>\n",
        "      <td> 4.588</td>\n",
        "    </tr>\n",
        "  </tbody>\n",
        "</table>\n",
        "</div>"
       ],
       "output_type": "pyout",
       "prompt_number": 1155,
       "text": [
        "                     hum  tempF  USAGE       timestamp_end  wspdMPH\n",
        "timestamp                                                          \n",
        "2014-01-18 00:00:00   56   39.2   1.13 2014-01-18 00:59:00    4.588\n",
        "2014-01-18 01:00:00   61   39.2   0.98 2014-01-18 01:59:00    4.588\n",
        "2014-01-18 02:00:00   61   39.2   0.94 2014-01-18 02:59:00    4.588\n",
        "2014-01-18 03:00:00   65   39.2   1.11 2014-01-18 03:59:00    4.588\n",
        "2014-01-18 04:00:00   70   39.2   1.34 2014-01-18 04:59:00    4.588"
       ]
      }
     ],
     "prompt_number": 1155
    },
    {
     "cell_type": "markdown",
     "metadata": {},
     "source": [
      "I want to distinguish typical weekdays from any weekends, holidays and days I worked from home.  I don't think any of those categories have enough of their own examples in order to qualify them as their own set so for now all normal weekdays are 0, all holidays, weekends, and work-from-home days are 1's.  "
     ]
    },
    {
     "cell_type": "code",
     "collapsed": false,
     "input": [
      "# Set weekends and holidays to 1, otherwise 0\n",
      "elec_and_weather['Atypical_Day'] = np.zeros(len(elec_and_weather['USAGE']))\n",
      "\n",
      "# Weekends\n",
      "elec_and_weather['Atypical_Day'][(elec_and_weather.index.dayofweek==5)|(elec_and_weather.index.dayofweek==6)] = 1\n",
      "\n",
      "# Holidays, days I worked from home\n",
      "holidays = ['2014-01-01','2014-01-20']\n",
      "work_from_home = ['2014-01-21','2014-02-13','2014-03-03','2014-04-04']\n",
      "\n",
      "for i in range(len(holidays)):\n",
      "    elec_and_weather['Atypical_Day'][elec_and_weather.index.date==np.datetime64(holidays[i])] = 1\n",
      "\n",
      "for i in range(len(work_from_home)):\n",
      "    elec_and_weather['Atypical_Day'][elec_and_weather.index.date==np.datetime64(work_from_home[i])] = 1"
     ],
     "language": "python",
     "metadata": {},
     "outputs": [],
     "prompt_number": 1156
    },
    {
     "cell_type": "markdown",
     "metadata": {},
     "source": [
      "For this case each hour of the day is a categorical variable, not continuous. The doing the analysis will require \"yes\" or \"no\" corresponding to each hour of the day."
     ]
    },
    {
     "cell_type": "code",
     "collapsed": false,
     "input": [
      "# Create new column for each hour of day, assign 1 if index.hour is corresponding hour of column, 0 otherwise\n",
      "\n",
      "for i in range(0,24):\n",
      "    elec_and_weather[i] = np.zeros(len(elec_and_weather['USAGE']))\n",
      "    elec_and_weather[i][elec_and_weather.index.hour==i] = 1\n",
      "    \n",
      "# Example 3am\n",
      "elec_and_weather[3][:3]"
     ],
     "language": "python",
     "metadata": {},
     "outputs": [
      {
       "output_type": "pyout",
       "prompt_number": 1157,
       "text": [
        "timestamp\n",
        "2014-01-18 00:00:00    0\n",
        "2014-01-18 01:00:00    0\n",
        "2014-01-18 02:00:00    0\n",
        "Name: 3, dtype: float64"
       ]
      }
     ],
     "prompt_number": 1157
    },
    {
     "cell_type": "markdown",
     "metadata": {},
     "source": [
      "If I want to predict the next hour's energy consumption, any given X vector/Y target pair in the training data should provide the current hour's electricity use (target) with the previous hour's (or however many past hours are used) weather data and usage (X vector)."
     ]
    },
    {
     "cell_type": "code",
     "collapsed": false,
     "input": [
      "# Add historic usage to each X vector\n",
      "\n",
      "# Set number of hours prediction is in advance\n",
      "n_hours_advance = 1\n",
      "\n",
      "# Set number of historic hours used\n",
      "n_hours_window = 1\n",
      "\n",
      "# need to do this for range function\n",
      "#n_hours_window += 1\n",
      "\n",
      "for k in range(n_hours_advance,n_hours_advance+n_hours_window):\n",
      "    \n",
      "    elec_and_weather['USAGE_t-%i'% k] = np.zeros(len(elec_and_weather['USAGE']))\n",
      "    #elec_and_weather['tempF_t-%i'% k] = np.zeros(len(elec_and_weather['tempF']))\n",
      "    #elec_and_weather['hum_t-%i'% k] = np.zeros(len(elec_and_weather['hum']))\n",
      "    #elec_and_weather['wspdMPH_t-%i'% k] = np.zeros(len(elec_and_weather['wspdMPH']))\n",
      "    \n",
      "    \n",
      "for i in range(n_hours_advance+n_hours_window,len(elec_and_weather['USAGE'])):\n",
      "    \n",
      "    for j in range(n_hours_advance,n_hours_advance+n_hours_window):\n",
      "        \n",
      "        elec_and_weather['USAGE_t-%i'% j][i] = elec_and_weather['USAGE'][i-j]\n",
      "        #elec_and_weather['tempF_t-%i'% j][i] = elec_and_weather['tempF'][i-j]\n",
      "        #elec_and_weather['wspdMPH_t-%i'% j][i] = elec_and_weather['wspdMPH'][i-j]\n",
      "        #elec_and_weather['hum_t-%i'% j][i] = elec_and_weather['hum'][i-j]\n",
      "\n",
      "elec_and_weather = elec_and_weather.ix[n_hours_advance+n_hours_window:]\n",
      "        \n",
      "#print elec_and_weather['USAGE_t-3'][:10]\n",
      "# Yesterday's total kWh\n",
      "\n",
      "elec_and_weather\n"
     ],
     "language": "python",
     "metadata": {},
     "outputs": [
      {
       "html": [
        "<pre>\n",
        "&lt;class 'pandas.core.frame.DataFrame'&gt;\n",
        "DatetimeIndex: 1748 entries, 2014-01-18 02:00:00 to 2014-03-31 23:00:00\n",
        "Data columns (total 31 columns):\n",
        "hum              1748  non-null values\n",
        "tempF            1748  non-null values\n",
        "USAGE            1748  non-null values\n",
        "timestamp_end    1748  non-null values\n",
        "wspdMPH          1748  non-null values\n",
        "Atypical_Day     1748  non-null values\n",
        "0                1748  non-null values\n",
        "1                1748  non-null values\n",
        "2                1748  non-null values\n",
        "3                1748  non-null values\n",
        "4                1748  non-null values\n",
        "5                1748  non-null values\n",
        "6                1748  non-null values\n",
        "7                1748  non-null values\n",
        "8                1748  non-null values\n",
        "9                1748  non-null values\n",
        "10               1748  non-null values\n",
        "11               1748  non-null values\n",
        "12               1748  non-null values\n",
        "13               1748  non-null values\n",
        "14               1748  non-null values\n",
        "15               1748  non-null values\n",
        "16               1748  non-null values\n",
        "17               1748  non-null values\n",
        "18               1748  non-null values\n",
        "19               1748  non-null values\n",
        "20               1748  non-null values\n",
        "21               1748  non-null values\n",
        "22               1748  non-null values\n",
        "23               1748  non-null values\n",
        "USAGE_t-1        1748  non-null values\n",
        "dtypes: datetime64[ns](1), float64(30)\n",
        "</pre>"
       ],
       "output_type": "pyout",
       "prompt_number": 1158,
       "text": [
        "<class 'pandas.core.frame.DataFrame'>\n",
        "DatetimeIndex: 1748 entries, 2014-01-18 02:00:00 to 2014-03-31 23:00:00\n",
        "Data columns (total 31 columns):\n",
        "hum              1748  non-null values\n",
        "tempF            1748  non-null values\n",
        "USAGE            1748  non-null values\n",
        "timestamp_end    1748  non-null values\n",
        "wspdMPH          1748  non-null values\n",
        "Atypical_Day     1748  non-null values\n",
        "0                1748  non-null values\n",
        "1                1748  non-null values\n",
        "2                1748  non-null values\n",
        "3                1748  non-null values\n",
        "4                1748  non-null values\n",
        "5                1748  non-null values\n",
        "6                1748  non-null values\n",
        "7                1748  non-null values\n",
        "8                1748  non-null values\n",
        "9                1748  non-null values\n",
        "10               1748  non-null values\n",
        "11               1748  non-null values\n",
        "12               1748  non-null values\n",
        "13               1748  non-null values\n",
        "14               1748  non-null values\n",
        "15               1748  non-null values\n",
        "16               1748  non-null values\n",
        "17               1748  non-null values\n",
        "18               1748  non-null values\n",
        "19               1748  non-null values\n",
        "20               1748  non-null values\n",
        "21               1748  non-null values\n",
        "22               1748  non-null values\n",
        "23               1748  non-null values\n",
        "USAGE_t-1        1748  non-null values\n",
        "dtypes: datetime64[ns](1), float64(30)"
       ]
      }
     ],
     "prompt_number": 1158
    },
    {
     "cell_type": "markdown",
     "metadata": {},
     "source": [
      "Since this is time series data, it makes more sense to define training and testing periods.  If it weren't time series, I could select a random sample to segregate for a testing set.  "
     ]
    },
    {
     "cell_type": "code",
     "collapsed": false,
     "input": [
      "# Define training and testing periods\n",
      "train_start = '18-jan-2014'\n",
      "train_end = '24-march-2014'\n",
      "test_start = '25-march-2014'\n",
      "test_end = '31-march-2014'"
     ],
     "language": "python",
     "metadata": {},
     "outputs": [],
     "prompt_number": 1159
    },
    {
     "cell_type": "code",
     "collapsed": false,
     "input": [
      "from sklearn import svm\n",
      "from sklearn import cross_validation\n",
      "from sklearn import preprocessing as pre"
     ],
     "language": "python",
     "metadata": {},
     "outputs": [],
     "prompt_number": 1160
    },
    {
     "cell_type": "code",
     "collapsed": false,
     "input": [
      "# Set up dataframes for building SVR model\n",
      "\n",
      "# Need to keep only the t-1 variables for predicting the next hour\n",
      "X_train_df = elec_and_weather[train_start:train_end]\n",
      "del X_train_df['USAGE']\n",
      "del X_train_df['timestamp_end']\n",
      "del X_train_df['hum']\n",
      "del X_train_df['tempF']\n",
      "del X_train_df['wspdMPH']\n",
      "\n",
      "y_train_df = elec_and_weather['USAGE'][train_start:train_end]\n",
      "\n",
      "X_test_df = elec_and_weather[test_start:test_end]\n",
      "del X_test_df['USAGE']\n",
      "del X_test_df['timestamp_end']\n",
      "del X_test_df['hum']\n",
      "del X_test_df['tempF']\n",
      "del X_test_df['wspdMPH']\n",
      "\n",
      "y_test_df = elec_and_weather['USAGE'][test_start:test_end]\n",
      "\n"
     ],
     "language": "python",
     "metadata": {},
     "outputs": [],
     "prompt_number": 1161
    },
    {
     "cell_type": "code",
     "collapsed": false,
     "input": [
      "print X_train_df[:5]\n"
     ],
     "language": "python",
     "metadata": {},
     "outputs": [
      {
       "output_type": "stream",
       "stream": "stdout",
       "text": [
        "<class 'pandas.core.frame.DataFrame'>\n",
        "DatetimeIndex: 5 entries, 2014-01-18 02:00:00 to 2014-01-18 06:00:00\n",
        "Data columns (total 26 columns):\n",
        "Atypical_Day    5  non-null values\n",
        "0               5  non-null values\n",
        "1               5  non-null values\n",
        "2               5  non-null values\n",
        "3               5  non-null values\n",
        "4               5  non-null values\n",
        "5               5  non-null values\n",
        "6               5  non-null values\n",
        "7               5  non-null values\n",
        "8               5  non-null values\n",
        "9               5  non-null values\n",
        "10              5  non-null values\n",
        "11              5  non-null values\n",
        "12              5  non-null values\n",
        "13              5  non-null values\n",
        "14              5  non-null values\n",
        "15              5  non-null values\n",
        "16              5  non-null values\n",
        "17              5  non-null values\n",
        "18              5  non-null values\n",
        "19              5  non-null values\n",
        "20              5  non-null values\n",
        "21              5  non-null values\n",
        "22              5  non-null values\n",
        "23              5  non-null values\n",
        "USAGE_t-1       5  non-null values\n",
        "dtypes: float64(26)\n"
       ]
      }
     ],
     "prompt_number": 1162
    },
    {
     "cell_type": "code",
     "collapsed": false,
     "input": [
      "# Numpy arrays for sklearn\n",
      "X_train = np.array(X_train_df)\n",
      "X_test = np.array(X_test_df)\n",
      "y_train = np.array(y_train_df)\n",
      "y_test = np.array(y_test_df)"
     ],
     "language": "python",
     "metadata": {},
     "outputs": [],
     "prompt_number": 1163
    },
    {
     "cell_type": "code",
     "collapsed": false,
     "input": [
      "\"\"\"\n",
      "X_model_data = elec_and_weather[train_start:test_end]\n",
      "del X_model_data['USAGE']\n",
      "del X_model_data['timestamp_end']\n",
      "\n",
      "y_model_data = elec_and_weather['USAGE'][train_start:test_end]\n",
      "\n",
      "#X_model_data_array = np.array(X_model_data)\n",
      "#y_model_data_array = np.array(y_model_data)\n",
      "\n",
      "X_train, X_test, y_train, y_test = cross_validation.train_test_split(X_model_data, y_model_data, test_size=0.1, random_state=0)\n",
      "\"\"\""
     ],
     "language": "python",
     "metadata": {},
     "outputs": [
      {
       "output_type": "pyout",
       "prompt_number": 1164,
       "text": [
        "\"\\nX_model_data = elec_and_weather[train_start:test_end]\\ndel X_model_data['USAGE']\\ndel X_model_data['timestamp_end']\\n\\ny_model_data = elec_and_weather['USAGE'][train_start:test_end]\\n\\n#X_model_data_array = np.array(X_model_data)\\n#y_model_data_array = np.array(y_model_data)\\n\\nX_train, X_test, y_train, y_test = cross_validation.train_test_split(X_model_data, y_model_data, test_size=0.1, random_state=0)\\n\""
       ]
      }
     ],
     "prompt_number": 1164
    },
    {
     "cell_type": "markdown",
     "metadata": {},
     "source": [
      "Preprocessing.  StandardScaler() from the \"preprocessing\" module in \"sklearn\" "
     ]
    },
    {
     "cell_type": "code",
     "collapsed": false,
     "input": [
      "from sklearn import preprocessing as pre\n",
      "scaler = pre.StandardScaler().fit(X_train)\n",
      "X_train_scaled = scaler.transform(X_train)\n",
      "X_test_scaled = scaler.transform(X_test)\n"
     ],
     "language": "python",
     "metadata": {},
     "outputs": [],
     "prompt_number": 1165
    },
    {
     "cell_type": "markdown",
     "metadata": {},
     "source": [
      "This trains the support vector regression model."
     ]
    },
    {
     "cell_type": "code",
     "collapsed": false,
     "input": [
      "SVR_model = svm.SVR(kernel='rbf',C=100,gamma=.001).fit(X_train_scaled,y_train)\n",
      "\n",
      "print 'Testing R^2 =', round(SVR_model.score(X_test_scaled,y_test),3)"
     ],
     "language": "python",
     "metadata": {},
     "outputs": [
      {
       "output_type": "stream",
       "stream": "stdout",
       "text": [
        "Testing R^2 = 0.732\n"
       ]
      }
     ],
     "prompt_number": 1166
    },
    {
     "cell_type": "markdown",
     "metadata": {},
     "source": [
      "Calculate next-hour forecast (predict!)"
     ]
    },
    {
     "cell_type": "code",
     "collapsed": false,
     "input": [
      "# Use SVR model to calculate predicted next-hour usage\n",
      "predict_y_array = SVR_model.predict(X_test_scaled)\n",
      "\n",
      "# Put it in a Pandas dataframe for ease of use\n",
      "predict_y = pd.DataFrame(predict_y_array,columns=['USAGE'])\n",
      "predict_y.index = X_test_df.index\n"
     ],
     "language": "python",
     "metadata": {},
     "outputs": [],
     "prompt_number": 1167
    },
    {
     "cell_type": "code",
     "collapsed": false,
     "input": [
      "# Plot the predicted values and actual\n",
      "import matplotlib.dates as dates\n",
      "\n",
      "plot_start = test_start\n",
      "plot_end = test_end\n",
      "#plot_start = '25-mar-2014'\n",
      "#plot_end = '28-mar-2014'\n",
      "\n",
      "fig = plt.figure(figsize=[8,5])\n",
      "ax = fig.add_subplot(111)\n",
      "plt.plot(predict_y.index,predict_y)\n",
      "plt.plot(y_test_df.index,y_test_df)\n",
      "#plt_predict = plt.plot(predict_y[plot_start:plot_end].index,predict_y[plot_start:plot_end])\n",
      "#plt_actual = plt.plot(y_test_df[plot_start:plot_end].index,y_test_df[plot_start:plot_end])\n",
      "plt.ylabel('Electricity Usage (kWh)')\n",
      "\n",
      "plt.legend(['Predicted','Actual'],loc='best')\n",
      "ax.xaxis.set_major_formatter(dates.DateFormatter('%b %d'))\n",
      "\n",
      "\n",
      "fig.savefig('SVM_predict_TS.png')"
     ],
     "language": "python",
     "metadata": {},
     "outputs": [
      {
       "output_type": "display_data",
       "png": "[encoded data removed]"
      }
     ],
     "prompt_number": 1220
    },
    {
     "cell_type": "markdown",
     "metadata": {},
     "source": [
      "Plot actual vs. prediced usage.  If prediction were perfect, all points would be on 45 degree line (y=x).\n"
     ]
    },
    {
     "cell_type": "code",
     "collapsed": false,
     "input": [
      "fig = plt.figure(figsize=(4,4))\n",
      "plot = plt.plot(y_test_df,predict_y,'x')\n",
      "plot45 = plt.plot([0,2],[0,2],'k')\n",
      "plt.xlim([0,2])\n",
      "plt.ylim([0,2])\n",
      "plt.xlabel('Actual Hourly Elec. Usage (kWh)')\n",
      "plt.ylabel('Predicted Hourly Elec. Usage (kWh)')\n",
      "\n",
      "fig.savefig('SVM_plot_errors.png')"
     ],
     "language": "python",
     "metadata": {},
     "outputs": [
      {
       "output_type": "display_data",
       "png": "[encoded data removed]"
      }
     ],
     "prompt_number": 1221
    },
    {
     "cell_type": "code",
     "collapsed": false,
     "input": [],
     "language": "python",
     "metadata": {},
     "outputs": [],
     "prompt_number": 1169
    },
    {
     "cell_type": "code",
     "collapsed": false,
     "input": [
      "predict_y[:5]"
     ],
     "language": "python",
     "metadata": {},
     "outputs": [
      {
       "html": [
        "<div style=\"max-height:1000px;max-width:1500px;overflow:auto;\">\n",
        "<table border=\"1\" class=\"dataframe\">\n",
        "  <thead>\n",
        "    <tr style=\"text-align: right;\">\n",
        "      <th></th>\n",
        "      <th>USAGE</th>\n",
        "    </tr>\n",
        "    <tr>\n",
        "      <th>timestamp</th>\n",
        "      <th></th>\n",
        "    </tr>\n",
        "  </thead>\n",
        "  <tbody>\n",
        "    <tr>\n",
        "      <th>2014-03-25 00:00:00</th>\n",
        "      <td> 0.865429</td>\n",
        "    </tr>\n",
        "    <tr>\n",
        "      <th>2014-03-25 01:00:00</th>\n",
        "      <td> 0.749572</td>\n",
        "    </tr>\n",
        "    <tr>\n",
        "      <th>2014-03-25 02:00:00</th>\n",
        "      <td> 0.848348</td>\n",
        "    </tr>\n",
        "    <tr>\n",
        "      <th>2014-03-25 03:00:00</th>\n",
        "      <td> 0.835600</td>\n",
        "    </tr>\n",
        "    <tr>\n",
        "      <th>2014-03-25 04:00:00</th>\n",
        "      <td> 0.861140</td>\n",
        "    </tr>\n",
        "  </tbody>\n",
        "</table>\n",
        "</div>"
       ],
       "output_type": "pyout",
       "prompt_number": 1170,
       "text": [
        "                        USAGE\n",
        "timestamp                    \n",
        "2014-03-25 00:00:00  0.865429\n",
        "2014-03-25 01:00:00  0.749572\n",
        "2014-03-25 02:00:00  0.848348\n",
        "2014-03-25 03:00:00  0.835600\n",
        "2014-03-25 04:00:00  0.861140"
       ]
      }
     ],
     "prompt_number": 1170
    },
    {
     "cell_type": "code",
     "collapsed": false,
     "input": [
      "X_train_df['USAGE_t-1']\n"
     ],
     "language": "python",
     "metadata": {},
     "outputs": [
      {
       "output_type": "pyout",
       "prompt_number": 1171,
       "text": [
        "timestamp\n",
        "2014-01-18 02:00:00    0.98\n",
        "2014-01-18 03:00:00    0.94\n",
        "2014-01-18 04:00:00    1.11\n",
        "2014-01-18 05:00:00    1.34\n",
        "2014-01-18 06:00:00    1.16\n",
        "2014-01-18 07:00:00    1.33\n",
        "2014-01-18 08:00:00    1.26\n",
        "2014-01-18 09:00:00    1.44\n",
        "2014-01-18 10:00:00    1.56\n",
        "2014-01-18 11:00:00    1.54\n",
        "2014-01-18 12:00:00    1.87\n",
        "2014-01-18 13:00:00    1.88\n",
        "2014-01-18 14:00:00    1.60\n",
        "2014-01-18 15:00:00    1.68\n",
        "2014-01-18 16:00:00    1.43\n",
        "...\n",
        "2014-03-24 09:00:00    1.20\n",
        "2014-03-24 10:00:00    1.12\n",
        "2014-03-24 11:00:00    1.03\n",
        "2014-03-24 12:00:00    1.02\n",
        "2014-03-24 13:00:00    1.02\n",
        "2014-03-24 14:00:00    1.00\n",
        "2014-03-24 15:00:00    0.95\n",
        "2014-03-24 16:00:00    0.84\n",
        "2014-03-24 17:00:00    0.56\n",
        "2014-03-24 18:00:00    0.47\n",
        "2014-03-24 19:00:00    0.60\n",
        "2014-03-24 20:00:00    1.22\n",
        "2014-03-24 21:00:00    0.88\n",
        "2014-03-24 22:00:00    0.91\n",
        "2014-03-24 23:00:00    0.66\n",
        "Name: USAGE_t-1, Length: 1580, dtype: float64"
       ]
      }
     ],
     "prompt_number": 1171
    },
    {
     "cell_type": "code",
     "collapsed": false,
     "input": [
      "y_train_df[:5]"
     ],
     "language": "python",
     "metadata": {},
     "outputs": [
      {
       "output_type": "pyout",
       "prompt_number": 1172,
       "text": [
        "timestamp\n",
        "2014-01-18 02:00:00    0.94\n",
        "2014-01-18 03:00:00    1.11\n",
        "2014-01-18 04:00:00    1.34\n",
        "2014-01-18 05:00:00    1.16\n",
        "2014-01-18 06:00:00    1.33\n",
        "Name: USAGE, dtype: float64"
       ]
      }
     ],
     "prompt_number": 1172
    },
    {
     "cell_type": "code",
     "collapsed": false,
     "input": [
      "X_train_df.to_csv('X_train_df.csv')\n",
      "y_train_df.to_csv('y_train_df.csv')\n",
      "X_test_df.to_csv('X_test_df.csv')\n",
      "y_test_df.to_csv('y_test_df.csv')"
     ],
     "language": "python",
     "metadata": {},
     "outputs": [],
     "prompt_number": 1173
    },
    {
     "cell_type": "code",
     "collapsed": false,
     "input": [
      "predict_y.to_csv('y_predict_df.csv')"
     ],
     "language": "python",
     "metadata": {},
     "outputs": [],
     "prompt_number": 1174
    },
    {
     "cell_type": "code",
     "collapsed": false,
     "input": [
      "predict_y_train_array = SVR_model.predict(X_train_scaled)\n",
      "# Put it in a Pandas dataframe for ease of use\n",
      "predict_y_train = pd.DataFrame(predict_y_train_array,columns=['USAGE'])\n",
      "predict_y_train.index = X_train_df.index"
     ],
     "language": "python",
     "metadata": {},
     "outputs": [],
     "prompt_number": 1175
    },
    {
     "cell_type": "code",
     "collapsed": false,
     "input": [
      "plot_start = '17-mar-2014'\n",
      "plot_end = '20-mar-2014'\n",
      "\n",
      "fig = plt.figure(figsize=[16,5])\n",
      "plot1 = plt.plot(predict_y_train[plot_start:plot_end].index,predict_y_train[plot_start:plot_end],marker='.')\n",
      "plot2 = plt.plot(y_train_df[plot_start:plot_end].index,y_train_df[plot_start:plot_end],marker='.')\n",
      "\n",
      "plt.legend(['predict','actual'])"
     ],
     "language": "python",
     "metadata": {},
     "outputs": [
      {
       "output_type": "pyout",
       "prompt_number": 1176,
       "text": [
        "<matplotlib.legend.Legend at 0xafd8b10>"
       ]
      },
      {
       "output_type": "display_data",
       "png": "[encoded data removed]"
      }
     ],
     "prompt_number": 1176
    },
    {
     "cell_type": "code",
     "collapsed": false,
     "input": [
      "predict_y_train.index"
     ],
     "language": "python",
     "metadata": {},
     "outputs": [
      {
       "output_type": "pyout",
       "prompt_number": 1177,
       "text": [
        "<class 'pandas.tseries.index.DatetimeIndex'>\n",
        "[2014-01-18 02:00:00, ..., 2014-03-24 23:00:00]\n",
        "Length: 1580, Freq: None, Timezone: None"
       ]
      }
     ],
     "prompt_number": 1177
    },
    {
     "cell_type": "code",
     "collapsed": false,
     "input": [
      "y_train_df.index"
     ],
     "language": "python",
     "metadata": {},
     "outputs": [
      {
       "output_type": "pyout",
       "prompt_number": 1178,
       "text": [
        "<class 'pandas.tseries.index.DatetimeIndex'>\n",
        "[2014-01-18 02:00:00, ..., 2014-03-24 23:00:00]\n",
        "Length: 1580, Freq: None, Timezone: None"
       ]
      }
     ],
     "prompt_number": 1178
    },
    {
     "cell_type": "code",
     "collapsed": false,
     "input": [],
     "language": "python",
     "metadata": {},
     "outputs": [],
     "prompt_number": 1179
    },
    {
     "cell_type": "code",
     "collapsed": false,
     "input": [],
     "language": "python",
     "metadata": {},
     "outputs": []
    }
   ],
   "metadata": {}
  }
 ]
}