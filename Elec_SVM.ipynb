{
 "metadata": {
  "name": "Elec_SVM"
 },
 "nbformat": 3,
 "nbformat_minor": 0,
 "worksheets": [
  {
   "cells": [
    {
     "cell_type": "heading",
     "level": 1,
     "metadata": {},
     "source": [
      "Forecasting Electricity Consumption with Support Vector Regression"
     ]
    },
    {
     "cell_type": "markdown",
     "metadata": {},
     "source": [
      "This iPython notebook composed by Justin Elszasz."
     ]
    },
    {
     "cell_type": "markdown",
     "metadata": {},
     "source": [
      "This notebook describes the process of training a support vector regression model for predicting electricity consumption based on several weather variables, the hour of the day, and whether the day was a weekend/holiday/work-from-home-day or just a normal weekday."
     ]
    },
    {
     "cell_type": "markdown",
     "metadata": {},
     "source": [
      "\n"
     ]
    },
    {
     "cell_type": "code",
     "collapsed": false,
     "input": [
      "import pandas as pd\n",
      "import numpy as np\n",
      "import import_funcs\n",
      "from matplotlib import pyplot as plt\n"
     ],
     "language": "python",
     "metadata": {},
     "outputs": [],
     "prompt_number": 84
    },
    {
     "cell_type": "code",
     "collapsed": false,
     "input": [
      "# Import the BGE hourly electricity data and weather data using import_funcs.py class\n",
      "elec_data = import_funcs.BGEdata()\n",
      "weather = import_funcs.weather()\n",
      "\n",
      "# Merge into one Pandas dataframe\n",
      "elec_and_weather = pd.merge(weather,elec_data,left_index=True,right_index=True)\n",
      "\n",
      "# Clean up a bit\n",
      "del elec_and_weather['tempm'], elec_and_weather['COST'], elec_and_weather['NOTES'], elec_and_weather['UNITS'], elec_and_weather['TYPE']\n",
      "del elec_and_weather['precipm']\n",
      "\n",
      "elec_and_weather['wspdMPH'] = elec_and_weather['wspdm'] * 0.62\n",
      "del elec_and_weather['wspdm']\n",
      "\n",
      "elec_and_weather[:5]"
     ],
     "language": "python",
     "metadata": {},
     "outputs": [
      {
       "html": [
        "<div style=\"max-height:1000px;max-width:1500px;overflow:auto;\">\n",
        "<table border=\"1\" class=\"dataframe\">\n",
        "  <thead>\n",
        "    <tr style=\"text-align: right;\">\n",
        "      <th></th>\n",
        "      <th>hum</th>\n",
        "      <th>tempF</th>\n",
        "      <th>USAGE</th>\n",
        "      <th>timestamp_end</th>\n",
        "      <th>wspdMPH</th>\n",
        "    </tr>\n",
        "    <tr>\n",
        "      <th>timestamp</th>\n",
        "      <th></th>\n",
        "      <th></th>\n",
        "      <th></th>\n",
        "      <th></th>\n",
        "      <th></th>\n",
        "    </tr>\n",
        "  </thead>\n",
        "  <tbody>\n",
        "    <tr>\n",
        "      <th>2014-01-18 00:00:00</th>\n",
        "      <td> 56</td>\n",
        "      <td> 39.2</td>\n",
        "      <td> 1.13</td>\n",
        "      <td>2014-01-18 00:59:00</td>\n",
        "      <td> 4.588</td>\n",
        "    </tr>\n",
        "    <tr>\n",
        "      <th>2014-01-18 01:00:00</th>\n",
        "      <td> 61</td>\n",
        "      <td> 39.2</td>\n",
        "      <td> 0.98</td>\n",
        "      <td>2014-01-18 01:59:00</td>\n",
        "      <td> 4.588</td>\n",
        "    </tr>\n",
        "    <tr>\n",
        "      <th>2014-01-18 02:00:00</th>\n",
        "      <td> 61</td>\n",
        "      <td> 39.2</td>\n",
        "      <td> 0.94</td>\n",
        "      <td>2014-01-18 02:59:00</td>\n",
        "      <td> 4.588</td>\n",
        "    </tr>\n",
        "    <tr>\n",
        "      <th>2014-01-18 03:00:00</th>\n",
        "      <td> 65</td>\n",
        "      <td> 39.2</td>\n",
        "      <td> 1.11</td>\n",
        "      <td>2014-01-18 03:59:00</td>\n",
        "      <td> 4.588</td>\n",
        "    </tr>\n",
        "    <tr>\n",
        "      <th>2014-01-18 04:00:00</th>\n",
        "      <td> 70</td>\n",
        "      <td> 39.2</td>\n",
        "      <td> 1.34</td>\n",
        "      <td>2014-01-18 04:59:00</td>\n",
        "      <td> 4.588</td>\n",
        "    </tr>\n",
        "  </tbody>\n",
        "</table>\n",
        "</div>"
       ],
       "output_type": "pyout",
       "prompt_number": 2,
       "text": [
        "                     hum  tempF  USAGE       timestamp_end  wspdMPH\n",
        "timestamp                                                          \n",
        "2014-01-18 00:00:00   56   39.2   1.13 2014-01-18 00:59:00    4.588\n",
        "2014-01-18 01:00:00   61   39.2   0.98 2014-01-18 01:59:00    4.588\n",
        "2014-01-18 02:00:00   61   39.2   0.94 2014-01-18 02:59:00    4.588\n",
        "2014-01-18 03:00:00   65   39.2   1.11 2014-01-18 03:59:00    4.588\n",
        "2014-01-18 04:00:00   70   39.2   1.34 2014-01-18 04:59:00    4.588"
       ]
      }
     ],
     "prompt_number": 2
    },
    {
     "cell_type": "code",
     "collapsed": false,
     "input": [
      "\n",
      "# Add historic usage to each X vector\n",
      "\n",
      "# Set number of previous 6 hours\n",
      "n_prev_hours = 6\n",
      "\n",
      "# need to do this for range function\n",
      "n_prev_hours += 1\n",
      "\n",
      "for k in range(1,n_prev_hours):\n",
      "    \n",
      "    elec_and_weather['USAGE_t-%i'% k] = np.zeros(len(elec_and_weather['USAGE']))\n",
      "    \n",
      "for i in range(n_prev_hours-1,len(elec_and_weather['USAGE'])):\n",
      "    \n",
      "    for j in range(1,n_prev_hours):\n",
      "        \n",
      "        elec_and_weather['USAGE_t-%i'% j][i] = elec_and_weather['USAGE'][i-j]\n",
      "\n",
      "elec_and_weather = elec_and_weather.ix[n_prev_hours-1:]\n",
      "        \n",
      "print elec_and_weather['USAGE_t-3'][:10]\n",
      "# Yesterday's total kWh\n",
      "\n",
      "\n"
     ],
     "language": "python",
     "metadata": {},
     "outputs": [
      {
       "output_type": "stream",
       "stream": "stdout",
       "text": [
        "timestamp\n",
        "2014-01-18 06:00:00    1.11\n",
        "2014-01-18 07:00:00    1.34\n",
        "2014-01-18 08:00:00    1.16\n",
        "2014-01-18 09:00:00    1.33\n",
        "2014-01-18 10:00:00    1.26\n",
        "2014-01-18 11:00:00    1.44\n",
        "2014-01-18 12:00:00    1.56\n",
        "2014-01-18 13:00:00    1.54\n",
        "2014-01-18 14:00:00    1.87\n",
        "2014-01-18 15:00:00    1.88\n",
        "Name: USAGE_t-3, dtype: float64\n"
       ]
      }
     ],
     "prompt_number": 3
    },
    {
     "cell_type": "markdown",
     "metadata": {},
     "source": [
      "I want to distinguish typical weekdays from any weekends, holidays and days I worked from home.  I don't think any of those categories have enough of their own examples in order to qualify them as their own set so for now all normal weekdays are 0, all holidays, weekends, and work-from-home days are 1's.  "
     ]
    },
    {
     "cell_type": "code",
     "collapsed": false,
     "input": [
      "# Set weekends and holidays to 1, otherwise 0\n",
      "elec_and_weather['Atypical_Day'] = np.zeros(len(elec_and_weather['USAGE']))\n",
      "\n",
      "# Weekends\n",
      "elec_and_weather['Atypical_Day'][(elec_and_weather.index.dayofweek==5)|(elec_and_weather.index.dayofweek==6)] = 1\n",
      "\n",
      "# Holidays, days I worked from home\n",
      "holidays = ['2014-01-01','2014-01-20']\n",
      "work_from_home = ['2014-01-21','2014-02-13','2014-03-03','2014-04-04']\n",
      "\n",
      "for i in range(len(holidays)):\n",
      "    elec_and_weather['Atypical_Day'][elec_and_weather.index.date==np.datetime64(holidays[i])] = 1\n",
      "\n",
      "for i in range(len(work_from_home)):\n",
      "    elec_and_weather['Atypical_Day'][elec_and_weather.index.date==np.datetime64(work_from_home[i])] = 1"
     ],
     "language": "python",
     "metadata": {},
     "outputs": [],
     "prompt_number": 4
    },
    {
     "cell_type": "markdown",
     "metadata": {},
     "source": [
      "For this case each hour of the day is a categorical variable, not continuous. The doing the analysis will require \"yes\" or \"no\" corresponding to each hour of the day."
     ]
    },
    {
     "cell_type": "code",
     "collapsed": false,
     "input": [
      "# Create new column for each hour of day, assign 1 if index.hour is corresponding hour of column, 0 otherwise\n",
      "\n",
      "for i in range(0,24):\n",
      "    elec_and_weather[i] = np.zeros(len(elec_and_weather['USAGE']))\n",
      "    elec_and_weather[i][elec_and_weather.index.hour==i] = 1\n",
      "    \n",
      "# Example    \n",
      "elec_and_weather[7][:3]"
     ],
     "language": "python",
     "metadata": {},
     "outputs": [
      {
       "output_type": "pyout",
       "prompt_number": 5,
       "text": [
        "timestamp\n",
        "2014-01-18 06:00:00    0\n",
        "2014-01-18 07:00:00    1\n",
        "2014-01-18 08:00:00    0\n",
        "Name: 7, dtype: float64"
       ]
      }
     ],
     "prompt_number": 5
    },
    {
     "cell_type": "code",
     "collapsed": false,
     "input": [
      "train_start = '18-jan-2014'\n",
      "train_end = '24-march-2014'\n",
      "test_start = '25-march-2014 00:00:00'\n",
      "test_end = '31-march-2014 23:00:00'"
     ],
     "language": "python",
     "metadata": {},
     "outputs": [],
     "prompt_number": 6
    },
    {
     "cell_type": "code",
     "collapsed": false,
     "input": [
      "from sklearn import svm\n",
      "from sklearn import cross_validation"
     ],
     "language": "python",
     "metadata": {},
     "outputs": [],
     "prompt_number": 7
    },
    {
     "cell_type": "code",
     "collapsed": false,
     "input": [
      "# Set up dataframes for building SVR model\n",
      "\n",
      "X_train_df = elec_and_weather[train_start:train_end]\n",
      "del X_train_df['USAGE']\n",
      "del X_train_df['timestamp_end']\n",
      "\n",
      "y_train_df = elec_and_weather['USAGE'][train_start:train_end]\n",
      "\n",
      "X_test_df = elec_and_weather[test_start:test_end]\n",
      "del X_test_df['USAGE']\n",
      "del X_test_df['timestamp_end']\n",
      "\n",
      "y_test_df = elec_and_weather['USAGE'][test_start:test_end]\n",
      "\n"
     ],
     "language": "python",
     "metadata": {},
     "outputs": [],
     "prompt_number": 8
    },
    {
     "cell_type": "code",
     "collapsed": false,
     "input": [
      "# Numpy arrays for sklearn\n",
      "X_train = np.array(X_train_df)\n",
      "X_test = np.array(X_test_df)\n",
      "y_train = np.array(y_train_df)\n",
      "y_test = np.array(y_test_df)"
     ],
     "language": "python",
     "metadata": {},
     "outputs": [],
     "prompt_number": 9
    },
    {
     "cell_type": "code",
     "collapsed": false,
     "input": [
      "\"\"\"\n",
      "X_model_data = elec_and_weather[train_start:test_end]\n",
      "del X_model_data['USAGE']\n",
      "del X_model_data['timestamp_end']\n",
      "\n",
      "y_model_data = elec_and_weather['USAGE'][train_start:test_end]\n",
      "\n",
      "#X_model_data_array = np.array(X_model_data)\n",
      "#y_model_data_array = np.array(y_model_data)\n",
      "\n",
      "X_train, X_test, y_train, y_test = cross_validation.train_test_split(X_model_data, y_model_data, test_size=0.1, random_state=0)\n",
      "\"\"\""
     ],
     "language": "python",
     "metadata": {},
     "outputs": [
      {
       "output_type": "pyout",
       "prompt_number": 10,
       "text": [
        "\"\\nX_model_data = elec_and_weather[train_start:test_end]\\ndel X_model_data['USAGE']\\ndel X_model_data['timestamp_end']\\n\\ny_model_data = elec_and_weather['USAGE'][train_start:test_end]\\n\\n#X_model_data_array = np.array(X_model_data)\\n#y_model_data_array = np.array(y_model_data)\\n\\nX_train, X_test, y_train, y_test = cross_validation.train_test_split(X_model_data, y_model_data, test_size=0.1, random_state=0)\\n\""
       ]
      }
     ],
     "prompt_number": 10
    },
    {
     "cell_type": "markdown",
     "metadata": {},
     "source": [
      "This trains the support vector regression model."
     ]
    },
    {
     "cell_type": "code",
     "collapsed": false,
     "input": [
      "SVR_model = svm.SVR(kernel='rbf',C=85,gamma=.0005).fit(X_train,y_train)\n",
      "\n",
      "print 'Testing R^2 =', round(SVR_model.score(X_test,y_test),3)"
     ],
     "language": "python",
     "metadata": {},
     "outputs": [
      {
       "output_type": "stream",
       "stream": "stdout",
       "text": [
        "Testing R^2 = 0.794\n"
       ]
      }
     ],
     "prompt_number": 69
    },
    {
     "cell_type": "markdown",
     "metadata": {},
     "source": [
      "Calculate next-hour forecast (predict!)"
     ]
    },
    {
     "cell_type": "code",
     "collapsed": false,
     "input": [
      "# Use SVR model to calculate predicted next-hour usage\n",
      "predict_y_array = SVR_model.predict(X_test)\n",
      "\n",
      "# Put it in a Pandas dataframe for ease of use\n",
      "predict_y = pd.DataFrame(predict_y_array,columns=['USAGE'])\n",
      "predict_y.index = X_test_df.index"
     ],
     "language": "python",
     "metadata": {},
     "outputs": [],
     "prompt_number": 70
    },
    {
     "cell_type": "code",
     "collapsed": false,
     "input": [
      "# Plot the predicted values and actual\n",
      "\n",
      "plot_start = '25-mar-2014'\n",
      "plot_end = '31-mar-2014'\n",
      "\n",
      "fig = plt.figure()\n",
      "plt_predict = predict_y[plot_start:plot_end].plot()\n",
      "plt_actual = y_test_df[plot_start:plot_end].plot(grid=False)\n",
      "plt.ylabel('Electricity Usage (kWh)')\n",
      "plt.legend(['Predicted','Actual'],loc='best')"
     ],
     "language": "python",
     "metadata": {},
     "outputs": [
      {
       "output_type": "pyout",
       "prompt_number": 97,
       "text": [
        "<matplotlib.legend.Legend at 0xaf80ad0>"
       ]
      },
      {
       "output_type": "display_data",
       "png": "[encoded data removed]"
      }
     ],
     "prompt_number": 97
    },
    {
     "cell_type": "markdown",
     "metadata": {},
     "source": [
      "Plot actual vs. prediced usage.  If prediction were perfect, all points would be on 45 degree line (y=x).\n"
     ]
    },
    {
     "cell_type": "code",
     "collapsed": false,
     "input": [
      "fig = plt.figure(figsize=(5,5))\n",
      "plot = plt.plot(y_test_df,predict_y,'x')\n",
      "plt.xlim([0,2])\n",
      "plt.ylim([0,2])\n",
      "plt.xlabel('Actual Elec. Usage (kWh)')\n",
      "plt.ylabel('Predicted Elec. Usage (kWh)')"
     ],
     "language": "python",
     "metadata": {},
     "outputs": [
      {
       "output_type": "pyout",
       "prompt_number": 95,
       "text": [
        "<matplotlib.text.Text at 0xd5d1290>"
       ]
      },
      {
       "output_type": "display_data",
       "png": "[encoded data removed]"
      }
     ],
     "prompt_number": 95
    },
    {
     "cell_type": "code",
     "collapsed": false,
     "input": [
      "%whos"
     ],
     "language": "python",
     "metadata": {},
     "outputs": [
      {
       "output_type": "stream",
       "stream": "stdout",
       "text": [
        "Variable           Type           Data/Info\n",
        "-------------------------------------------\n",
        "SVR_model          SVR            SVR(C=1000, cache_size=20<...>=0.001,\\n  verbose=False)\n",
        "X_test             ndarray        168x34: 5712 elems, type `float64`, 45696 bytes\n",
        "X_test_df          DataFrame      <class 'pandas.core.frame<...>lues\\ndtypes: float64(34)\n",
        "X_train            ndarray        1576x34: 53584 elems, type `float64`, 428672 bytes (418 kb)\n",
        "X_train_df         DataFrame      <class 'pandas.core.frame<...>lues\\ndtypes: float64(34)\n",
        "cross_validation   module         <module 'sklearn.cross_va<...>rn/cross_validation.pyc'>\n",
        "elec_and_weather   DataFrame      <class 'pandas.core.frame<...>ime64[ns](1), float64(35)\n",
        "elec_data          DataFrame      <class 'pandas.core.frame<...>1), float64(2), object(3)\n",
        "fig                Figure         Figure(480x320)\n",
        "holidays           list           n=2\n",
        "i                  int            23\n",
        "import_funcs       module         <module 'import_funcs' from 'import_funcs.pyc'>\n",
        "j                  int            6\n",
        "k                  int            6\n",
        "n_prev_hours       int            7\n",
        "pd                 module         <module 'pandas' from '/L<...>egg/pandas/__init__.pyc'>\n",
        "plot_end           str            31-mar-2014\n",
        "plot_start         str            25-mar-2014\n",
        "plot_window        str            25-mar-2014\n",
        "plt1               AxesSubplot    Axes(0.125,0.125;0.775x0.775)\n",
        "plt2               AxesSubplot    Axes(0.125,0.125;0.775x0.775)\n",
        "plt_actual         AxesSubplot    Axes(0.125,0.125;0.775x0.775)\n",
        "plt_predict        AxesSubplot    Axes(0.125,0.125;0.775x0.775)\n",
        "predict_y          DataFrame      <class 'pandas.core.frame<...>alues\\ndtypes: float64(1)\n",
        "predict_y_array    ndarray        168: 168 elems, type `float64`, 1344 bytes\n",
        "svm                module         <module 'sklearn.svm' fro<...>klearn/svm/__init__.pyc'>\n",
        "test_end           str            31-march-2014 23:00:00\n",
        "test_start         str            25-march-2014 00:00:00\n",
        "train_end          str            24-march-2014\n",
        "train_start        str            18-jan-2014\n",
        "weather            DataFrame      <class 'pandas.core.frame<...>alues\\ndtypes: float64(5)\n",
        "work_from_home     list           n=4\n",
        "y_test             ndarray        168: 168 elems, type `float64`, 1344 bytes\n",
        "y_test_df          TimeSeries     timestamp\\n2014-03-25 00:<...>ngth: 168, dtype: float64\n",
        "y_train            ndarray        1576: 1576 elems, type `float64`, 12608 bytes\n",
        "y_train_df         TimeSeries     timestamp\\n2014-01-18 06:<...>gth: 1576, dtype: float64\n"
       ]
      }
     ],
     "prompt_number": 152
    },
    {
     "cell_type": "code",
     "collapsed": false,
     "input": [
      "%reset"
     ],
     "language": "python",
     "metadata": {},
     "outputs": [],
     "prompt_number": 158
    },
    {
     "cell_type": "code",
     "collapsed": false,
     "input": [],
     "language": "python",
     "metadata": {},
     "outputs": []
    },
    {
     "cell_type": "code",
     "collapsed": false,
     "input": [],
     "language": "python",
     "metadata": {},
     "outputs": []
    },
    {
     "cell_type": "code",
     "collapsed": false,
     "input": [],
     "language": "python",
     "metadata": {},
     "outputs": []
    }
   ],
   "metadata": {}
  }
 ]
}