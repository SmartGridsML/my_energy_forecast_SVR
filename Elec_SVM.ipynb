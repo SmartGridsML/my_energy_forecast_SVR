{
 "metadata": {
  "name": "Elec_SVM"
 },
 "nbformat": 3,
 "nbformat_minor": 0,
 "worksheets": [
  {
   "cells": [
    {
     "cell_type": "heading",
     "level": 1,
     "metadata": {},
     "source": [
      "Forecasting Electricity Consumption with Support Vector Regression"
     ]
    },
    {
     "cell_type": "markdown",
     "metadata": {},
     "source": [
      "This iPython notebook composed by Justin Elszasz."
     ]
    },
    {
     "cell_type": "markdown",
     "metadata": {},
     "source": [
      "This notebook describes the process of training a support vector regression model for predicting electricity consumption based on several weather variables, the hour of the day, and whether the day was a weekend/holiday/work-from-home-day or just a normal weekday."
     ]
    },
    {
     "cell_type": "markdown",
     "metadata": {},
     "source": [
      "\n"
     ]
    },
    {
     "cell_type": "code",
     "collapsed": false,
     "input": [
      "%reset"
     ],
     "language": "python",
     "metadata": {},
     "outputs": [],
     "prompt_number": 370
    },
    {
     "cell_type": "code",
     "collapsed": false,
     "input": [
      "import pandas as pd\n",
      "import numpy as np\n",
      "import import_funcs\n",
      "from matplotlib import pyplot as plt"
     ],
     "language": "python",
     "metadata": {},
     "outputs": [],
     "prompt_number": 371
    },
    {
     "cell_type": "code",
     "collapsed": false,
     "input": [
      "# Import the BGE hourly electricity data and weather data using import_funcs.py class\n",
      "elec_data = import_funcs.BGEdata()\n",
      "weather = import_funcs.weather()\n",
      "\n",
      "# Merge into one Pandas dataframe\n",
      "elec_and_weather = pd.merge(weather,elec_data,left_index=True,right_index=True)\n",
      "\n",
      "# Clean up a bit\n",
      "del elec_and_weather['tempm'], elec_and_weather['COST'], elec_and_weather['NOTES'], elec_and_weather['UNITS'], elec_and_weather['TYPE']\n",
      "del elec_and_weather['precipm']\n",
      "\n",
      "elec_and_weather['wspdMPH'] = elec_and_weather['wspdm'] * 0.62\n",
      "del elec_and_weather['wspdm']\n",
      "\n",
      "elec_and_weather[:5]"
     ],
     "language": "python",
     "metadata": {},
     "outputs": [
      {
       "html": [
        "<div style=\"max-height:1000px;max-width:1500px;overflow:auto;\">\n",
        "<table border=\"1\" class=\"dataframe\">\n",
        "  <thead>\n",
        "    <tr style=\"text-align: right;\">\n",
        "      <th></th>\n",
        "      <th>hum</th>\n",
        "      <th>tempF</th>\n",
        "      <th>USAGE</th>\n",
        "      <th>timestamp_end</th>\n",
        "      <th>wspdMPH</th>\n",
        "    </tr>\n",
        "    <tr>\n",
        "      <th>timestamp</th>\n",
        "      <th></th>\n",
        "      <th></th>\n",
        "      <th></th>\n",
        "      <th></th>\n",
        "      <th></th>\n",
        "    </tr>\n",
        "  </thead>\n",
        "  <tbody>\n",
        "    <tr>\n",
        "      <th>2014-01-18 00:00:00</th>\n",
        "      <td> 56</td>\n",
        "      <td> 39.2</td>\n",
        "      <td> 1.13</td>\n",
        "      <td>2014-01-18 00:59:00</td>\n",
        "      <td> 4.588</td>\n",
        "    </tr>\n",
        "    <tr>\n",
        "      <th>2014-01-18 01:00:00</th>\n",
        "      <td> 61</td>\n",
        "      <td> 39.2</td>\n",
        "      <td> 0.98</td>\n",
        "      <td>2014-01-18 01:59:00</td>\n",
        "      <td> 4.588</td>\n",
        "    </tr>\n",
        "    <tr>\n",
        "      <th>2014-01-18 02:00:00</th>\n",
        "      <td> 61</td>\n",
        "      <td> 39.2</td>\n",
        "      <td> 0.94</td>\n",
        "      <td>2014-01-18 02:59:00</td>\n",
        "      <td> 4.588</td>\n",
        "    </tr>\n",
        "    <tr>\n",
        "      <th>2014-01-18 03:00:00</th>\n",
        "      <td> 65</td>\n",
        "      <td> 39.2</td>\n",
        "      <td> 1.11</td>\n",
        "      <td>2014-01-18 03:59:00</td>\n",
        "      <td> 4.588</td>\n",
        "    </tr>\n",
        "    <tr>\n",
        "      <th>2014-01-18 04:00:00</th>\n",
        "      <td> 70</td>\n",
        "      <td> 39.2</td>\n",
        "      <td> 1.34</td>\n",
        "      <td>2014-01-18 04:59:00</td>\n",
        "      <td> 4.588</td>\n",
        "    </tr>\n",
        "  </tbody>\n",
        "</table>\n",
        "</div>"
       ],
       "output_type": "pyout",
       "prompt_number": 372,
       "text": [
        "                     hum  tempF  USAGE       timestamp_end  wspdMPH\n",
        "timestamp                                                          \n",
        "2014-01-18 00:00:00   56   39.2   1.13 2014-01-18 00:59:00    4.588\n",
        "2014-01-18 01:00:00   61   39.2   0.98 2014-01-18 01:59:00    4.588\n",
        "2014-01-18 02:00:00   61   39.2   0.94 2014-01-18 02:59:00    4.588\n",
        "2014-01-18 03:00:00   65   39.2   1.11 2014-01-18 03:59:00    4.588\n",
        "2014-01-18 04:00:00   70   39.2   1.34 2014-01-18 04:59:00    4.588"
       ]
      }
     ],
     "prompt_number": 372
    },
    {
     "cell_type": "markdown",
     "metadata": {},
     "source": [
      "I want to distinguish typical weekdays from any weekends, holidays and days I worked from home.  I don't think any of those categories have enough of their own examples in order to qualify them as their own set so for now all normal weekdays are 0, all holidays, weekends, and work-from-home days are 1's.  "
     ]
    },
    {
     "cell_type": "code",
     "collapsed": false,
     "input": [
      "# Set weekends and holidays to 1, otherwise 0\n",
      "elec_and_weather['Atypical_Day'] = np.zeros(len(elec_and_weather['USAGE']))\n",
      "\n",
      "# Weekends\n",
      "elec_and_weather['Atypical_Day'][(elec_and_weather.index.dayofweek==5)|(elec_and_weather.index.dayofweek==6)] = 1\n",
      "\n",
      "# Holidays, days I worked from home\n",
      "holidays = ['2014-01-01','2014-01-20']\n",
      "work_from_home = ['2014-01-21','2014-02-13','2014-03-03','2014-04-04']\n",
      "\n",
      "for i in range(len(holidays)):\n",
      "    elec_and_weather['Atypical_Day'][elec_and_weather.index.date==np.datetime64(holidays[i])] = 1\n",
      "\n",
      "for i in range(len(work_from_home)):\n",
      "    elec_and_weather['Atypical_Day'][elec_and_weather.index.date==np.datetime64(work_from_home[i])] = 1"
     ],
     "language": "python",
     "metadata": {},
     "outputs": [],
     "prompt_number": 373
    },
    {
     "cell_type": "markdown",
     "metadata": {},
     "source": [
      "For this case each hour of the day is a categorical variable, not continuous. The doing the analysis will require \"yes\" or \"no\" corresponding to each hour of the day."
     ]
    },
    {
     "cell_type": "code",
     "collapsed": false,
     "input": [
      "# Create new column for each hour of day, assign 1 if index.hour is corresponding hour of column, 0 otherwise\n",
      "\n",
      "for i in range(0,24):\n",
      "    elec_and_weather[i] = np.zeros(len(elec_and_weather['USAGE']))\n",
      "    elec_and_weather[i][elec_and_weather.index.hour==i] = 1\n",
      "    \n",
      "# Example    \n",
      "elec_and_weather[2][:3]"
     ],
     "language": "python",
     "metadata": {},
     "outputs": [
      {
       "output_type": "pyout",
       "prompt_number": 374,
       "text": [
        "timestamp\n",
        "2014-01-18 00:00:00    0\n",
        "2014-01-18 01:00:00    0\n",
        "2014-01-18 02:00:00    1\n",
        "Name: 2, dtype: float64"
       ]
      }
     ],
     "prompt_number": 374
    },
    {
     "cell_type": "markdown",
     "metadata": {},
     "source": [
      "If I want to predict the next hour's energy consumption, any given X vector/Y target pair in the training data should provide the current hour's electricity use (target) with the previous hour's (or however many past hours are used) weather data and usage (X vector)."
     ]
    },
    {
     "cell_type": "code",
     "collapsed": false,
     "input": [
      "# Add historic usage to each X vector\n",
      "\n",
      "# Set number of hours prediction is in advance\n",
      "n_hours_advance = 1\n",
      "\n",
      "# Set number of historic hours used\n",
      "n_hours_window = 48\n",
      "\n",
      "# need to do this for range function\n",
      "#n_hours_window += 1\n",
      "\n",
      "for k in range(n_hours_advance,n_hours_advance+n_hours_window):\n",
      "    \n",
      "    elec_and_weather['USAGE_t-%i'% k] = np.zeros(len(elec_and_weather['USAGE']))\n",
      "    elec_and_weather['tempF_t-%i'% k] = np.zeros(len(elec_and_weather['tempF']))\n",
      "    elec_and_weather['hum_t-%i'% k] = np.zeros(len(elec_and_weather['hum']))\n",
      "    elec_and_weather['wspdMPH_t-%i'% k] = np.zeros(len(elec_and_weather['wspdMPH']))\n",
      "    \n",
      "    \n",
      "for i in range(n_hours_advance+n_hours_window,len(elec_and_weather['USAGE'])):\n",
      "    \n",
      "    for j in range(n_hours_advance,n_hours_advance+n_hours_window):\n",
      "        \n",
      "        elec_and_weather['USAGE_t-%i'% j][i] = elec_and_weather['USAGE'][i-j]\n",
      "        elec_and_weather['tempF_t-%i'% j][i] = elec_and_weather['tempF'][i-j]\n",
      "        elec_and_weather['wspdMPH_t-%i'% j][i] = elec_and_weather['wspdMPH'][i-j]\n",
      "        elec_and_weather['hum_t-%i'% j][i] = elec_and_weather['hum'][i-j]\n",
      "\n",
      "elec_and_weather = elec_and_weather.ix[n_hours_advance+n_hours_window:]\n",
      "        \n",
      "#print elec_and_weather['USAGE_t-3'][:10]\n",
      "# Yesterday's total kWh\n",
      "\n",
      "elec_and_weather\n"
     ],
     "language": "python",
     "metadata": {},
     "outputs": [
      {
       "html": [
        "<pre>\n",
        "&lt;class 'pandas.core.frame.DataFrame'&gt;\n",
        "DatetimeIndex: 1663 entries, 2014-01-21 15:00:00 to 2014-03-31 23:00:00\n",
        "Columns: 222 entries, hum to wspdMPH_t-48\n",
        "dtypes: datetime64[ns](1), float64(221)\n",
        "</pre>"
       ],
       "output_type": "pyout",
       "prompt_number": 428,
       "text": [
        "<class 'pandas.core.frame.DataFrame'>\n",
        "DatetimeIndex: 1663 entries, 2014-01-21 15:00:00 to 2014-03-31 23:00:00\n",
        "Columns: 222 entries, hum to wspdMPH_t-48\n",
        "dtypes: datetime64[ns](1), float64(221)"
       ]
      }
     ],
     "prompt_number": 428
    },
    {
     "cell_type": "code",
     "collapsed": false,
     "input": [
      "train_start = '18-jan-2014'\n",
      "train_end = '24-march-2014'\n",
      "test_start = '25-march-2014 00:00:00'\n",
      "test_end = '31-march-2014 23:00:00'"
     ],
     "language": "python",
     "metadata": {},
     "outputs": [],
     "prompt_number": 376
    },
    {
     "cell_type": "code",
     "collapsed": false,
     "input": [
      "from sklearn import svm\n",
      "from sklearn import cross_validation\n",
      "from sklearn import preprocessing as pre"
     ],
     "language": "python",
     "metadata": {},
     "outputs": [],
     "prompt_number": 377
    },
    {
     "cell_type": "code",
     "collapsed": false,
     "input": [
      "# Set up dataframes for building SVR model\n",
      "\n",
      "X_train_df = elec_and_weather[train_start:train_end]\n",
      "del X_train_df['USAGE']\n",
      "del X_train_df['timestamp_end']\n",
      "del X_train_df['hum']\n",
      "del X_train_df['tempF']\n",
      "del X_train_df['wspdMPH']\n",
      "\n",
      "y_train_df = elec_and_weather['USAGE'][train_start:train_end]\n",
      "\n",
      "X_test_df = elec_and_weather[test_start:test_end]\n",
      "del X_test_df['USAGE']\n",
      "del X_test_df['timestamp_end']\n",
      "del X_test_df['hum']\n",
      "del X_test_df['tempF']\n",
      "del X_test_df['wspdMPH']\n",
      "\n",
      "\n",
      "y_test_df = elec_and_weather['USAGE'][test_start:test_end]\n",
      "\n"
     ],
     "language": "python",
     "metadata": {},
     "outputs": [],
     "prompt_number": 378
    },
    {
     "cell_type": "code",
     "collapsed": false,
     "input": [
      "X_train_df"
     ],
     "language": "python",
     "metadata": {},
     "outputs": [
      {
       "html": [
        "<pre>\n",
        "&lt;class 'pandas.core.frame.DataFrame'&gt;\n",
        "DatetimeIndex: 1569 entries, 2014-01-18 13:00:00 to 2014-03-24 23:00:00\n",
        "Data columns (total 73 columns):\n",
        "Atypical_Day    1569  non-null values\n",
        "0               1569  non-null values\n",
        "1               1569  non-null values\n",
        "2               1569  non-null values\n",
        "3               1569  non-null values\n",
        "4               1569  non-null values\n",
        "5               1569  non-null values\n",
        "6               1569  non-null values\n",
        "7               1569  non-null values\n",
        "8               1569  non-null values\n",
        "9               1569  non-null values\n",
        "10              1569  non-null values\n",
        "11              1569  non-null values\n",
        "12              1569  non-null values\n",
        "13              1569  non-null values\n",
        "14              1569  non-null values\n",
        "15              1569  non-null values\n",
        "16              1569  non-null values\n",
        "17              1569  non-null values\n",
        "18              1569  non-null values\n",
        "19              1569  non-null values\n",
        "20              1569  non-null values\n",
        "21              1569  non-null values\n",
        "22              1569  non-null values\n",
        "23              1569  non-null values\n",
        "USAGE_t-1       1569  non-null values\n",
        "tempF_t-1       1569  non-null values\n",
        "hum_t-1         1569  non-null values\n",
        "wspdMPH_t-1     1569  non-null values\n",
        "USAGE_t-2       1569  non-null values\n",
        "tempF_t-2       1569  non-null values\n",
        "hum_t-2         1569  non-null values\n",
        "wspdMPH_t-2     1569  non-null values\n",
        "USAGE_t-3       1569  non-null values\n",
        "tempF_t-3       1569  non-null values\n",
        "hum_t-3         1569  non-null values\n",
        "wspdMPH_t-3     1569  non-null values\n",
        "USAGE_t-4       1569  non-null values\n",
        "tempF_t-4       1569  non-null values\n",
        "hum_t-4         1569  non-null values\n",
        "wspdMPH_t-4     1569  non-null values\n",
        "USAGE_t-5       1569  non-null values\n",
        "tempF_t-5       1569  non-null values\n",
        "hum_t-5         1569  non-null values\n",
        "wspdMPH_t-5     1569  non-null values\n",
        "USAGE_t-6       1569  non-null values\n",
        "tempF_t-6       1569  non-null values\n",
        "hum_t-6         1569  non-null values\n",
        "wspdMPH_t-6     1569  non-null values\n",
        "USAGE_t-7       1569  non-null values\n",
        "tempF_t-7       1569  non-null values\n",
        "hum_t-7         1569  non-null values\n",
        "wspdMPH_t-7     1569  non-null values\n",
        "USAGE_t-8       1569  non-null values\n",
        "tempF_t-8       1569  non-null values\n",
        "hum_t-8         1569  non-null values\n",
        "wspdMPH_t-8     1569  non-null values\n",
        "USAGE_t-9       1569  non-null values\n",
        "tempF_t-9       1569  non-null values\n",
        "hum_t-9         1569  non-null values\n",
        "wspdMPH_t-9     1569  non-null values\n",
        "USAGE_t-10      1569  non-null values\n",
        "tempF_t-10      1569  non-null values\n",
        "hum_t-10        1569  non-null values\n",
        "wspdMPH_t-10    1569  non-null values\n",
        "USAGE_t-11      1569  non-null values\n",
        "tempF_t-11      1569  non-null values\n",
        "hum_t-11        1569  non-null values\n",
        "wspdMPH_t-11    1569  non-null values\n",
        "USAGE_t-12      1569  non-null values\n",
        "tempF_t-12      1569  non-null values\n",
        "hum_t-12        1569  non-null values\n",
        "wspdMPH_t-12    1569  non-null values\n",
        "dtypes: float64(73)\n",
        "</pre>"
       ],
       "output_type": "pyout",
       "prompt_number": 379,
       "text": [
        "<class 'pandas.core.frame.DataFrame'>\n",
        "DatetimeIndex: 1569 entries, 2014-01-18 13:00:00 to 2014-03-24 23:00:00\n",
        "Data columns (total 73 columns):\n",
        "Atypical_Day    1569  non-null values\n",
        "0               1569  non-null values\n",
        "1               1569  non-null values\n",
        "2               1569  non-null values\n",
        "3               1569  non-null values\n",
        "4               1569  non-null values\n",
        "5               1569  non-null values\n",
        "6               1569  non-null values\n",
        "7               1569  non-null values\n",
        "8               1569  non-null values\n",
        "9               1569  non-null values\n",
        "10              1569  non-null values\n",
        "11              1569  non-null values\n",
        "12              1569  non-null values\n",
        "13              1569  non-null values\n",
        "14              1569  non-null values\n",
        "15              1569  non-null values\n",
        "16              1569  non-null values\n",
        "17              1569  non-null values\n",
        "18              1569  non-null values\n",
        "19              1569  non-null values\n",
        "20              1569  non-null values\n",
        "21              1569  non-null values\n",
        "22              1569  non-null values\n",
        "23              1569  non-null values\n",
        "USAGE_t-1       1569  non-null values\n",
        "tempF_t-1       1569  non-null values\n",
        "hum_t-1         1569  non-null values\n",
        "wspdMPH_t-1     1569  non-null values\n",
        "USAGE_t-2       1569  non-null values\n",
        "tempF_t-2       1569  non-null values\n",
        "hum_t-2         1569  non-null values\n",
        "wspdMPH_t-2     1569  non-null values\n",
        "USAGE_t-3       1569  non-null values\n",
        "tempF_t-3       1569  non-null values\n",
        "hum_t-3         1569  non-null values\n",
        "wspdMPH_t-3     1569  non-null values\n",
        "USAGE_t-4       1569  non-null values\n",
        "tempF_t-4       1569  non-null values\n",
        "hum_t-4         1569  non-null values\n",
        "wspdMPH_t-4     1569  non-null values\n",
        "USAGE_t-5       1569  non-null values\n",
        "tempF_t-5       1569  non-null values\n",
        "hum_t-5         1569  non-null values\n",
        "wspdMPH_t-5     1569  non-null values\n",
        "USAGE_t-6       1569  non-null values\n",
        "tempF_t-6       1569  non-null values\n",
        "hum_t-6         1569  non-null values\n",
        "wspdMPH_t-6     1569  non-null values\n",
        "USAGE_t-7       1569  non-null values\n",
        "tempF_t-7       1569  non-null values\n",
        "hum_t-7         1569  non-null values\n",
        "wspdMPH_t-7     1569  non-null values\n",
        "USAGE_t-8       1569  non-null values\n",
        "tempF_t-8       1569  non-null values\n",
        "hum_t-8         1569  non-null values\n",
        "wspdMPH_t-8     1569  non-null values\n",
        "USAGE_t-9       1569  non-null values\n",
        "tempF_t-9       1569  non-null values\n",
        "hum_t-9         1569  non-null values\n",
        "wspdMPH_t-9     1569  non-null values\n",
        "USAGE_t-10      1569  non-null values\n",
        "tempF_t-10      1569  non-null values\n",
        "hum_t-10        1569  non-null values\n",
        "wspdMPH_t-10    1569  non-null values\n",
        "USAGE_t-11      1569  non-null values\n",
        "tempF_t-11      1569  non-null values\n",
        "hum_t-11        1569  non-null values\n",
        "wspdMPH_t-11    1569  non-null values\n",
        "USAGE_t-12      1569  non-null values\n",
        "tempF_t-12      1569  non-null values\n",
        "hum_t-12        1569  non-null values\n",
        "wspdMPH_t-12    1569  non-null values\n",
        "dtypes: float64(73)"
       ]
      }
     ],
     "prompt_number": 379
    },
    {
     "cell_type": "code",
     "collapsed": false,
     "input": [
      "# Numpy arrays for sklearn\n",
      "X_train = np.array(X_train_df)\n",
      "X_test = np.array(X_test_df)\n",
      "y_train = np.array(y_train_df)\n",
      "y_test = np.array(y_test_df)"
     ],
     "language": "python",
     "metadata": {},
     "outputs": [],
     "prompt_number": 380
    },
    {
     "cell_type": "code",
     "collapsed": false,
     "input": [
      "\"\"\"\n",
      "X_model_data = elec_and_weather[train_start:test_end]\n",
      "del X_model_data['USAGE']\n",
      "del X_model_data['timestamp_end']\n",
      "\n",
      "y_model_data = elec_and_weather['USAGE'][train_start:test_end]\n",
      "\n",
      "#X_model_data_array = np.array(X_model_data)\n",
      "#y_model_data_array = np.array(y_model_data)\n",
      "\n",
      "X_train, X_test, y_train, y_test = cross_validation.train_test_split(X_model_data, y_model_data, test_size=0.1, random_state=0)\n",
      "\"\"\""
     ],
     "language": "python",
     "metadata": {},
     "outputs": [
      {
       "output_type": "pyout",
       "prompt_number": 381,
       "text": [
        "\"\\nX_model_data = elec_and_weather[train_start:test_end]\\ndel X_model_data['USAGE']\\ndel X_model_data['timestamp_end']\\n\\ny_model_data = elec_and_weather['USAGE'][train_start:test_end]\\n\\n#X_model_data_array = np.array(X_model_data)\\n#y_model_data_array = np.array(y_model_data)\\n\\nX_train, X_test, y_train, y_test = cross_validation.train_test_split(X_model_data, y_model_data, test_size=0.1, random_state=0)\\n\""
       ]
      }
     ],
     "prompt_number": 381
    },
    {
     "cell_type": "markdown",
     "metadata": {},
     "source": [
      "Preprocessing.  StandardScaler() from the \"preprocessing\" module in \"sklearn\" "
     ]
    },
    {
     "cell_type": "code",
     "collapsed": false,
     "input": [
      "scaler = pre.StandardScaler().fit(X_train)\n",
      "X_train_scaled = scaler.transform(X_train)\n",
      "X_test_scaled = scaler.transform(X_test)\n"
     ],
     "language": "python",
     "metadata": {},
     "outputs": [],
     "prompt_number": 382
    },
    {
     "cell_type": "markdown",
     "metadata": {},
     "source": [
      "This trains the support vector regression model."
     ]
    },
    {
     "cell_type": "code",
     "collapsed": false,
     "input": [
      "SVR_model = svm.SVR(kernel='rbf',C=85,gamma=.0005).fit(X_train_scaled,y_train)\n",
      "\n",
      "print 'Testing R^2 =', round(SVR_model.score(X_test_scaled,y_test),3)"
     ],
     "language": "python",
     "metadata": {},
     "outputs": [
      {
       "output_type": "stream",
       "stream": "stdout",
       "text": [
        "Testing R^2 = 0.783\n"
       ]
      }
     ],
     "prompt_number": 391
    },
    {
     "cell_type": "markdown",
     "metadata": {},
     "source": [
      "Calculate next-hour forecast (predict!)"
     ]
    },
    {
     "cell_type": "code",
     "collapsed": false,
     "input": [
      "# Use SVR model to calculate predicted next-hour usage\n",
      "predict_y_array = SVR_model.predict(X_test_scaled)\n",
      "\n",
      "# Put it in a Pandas dataframe for ease of use\n",
      "predict_y = pd.DataFrame(predict_y_array,columns=['USAGE'])\n",
      "predict_y.index = X_test_df.index\n"
     ],
     "language": "python",
     "metadata": {},
     "outputs": [],
     "prompt_number": 384
    },
    {
     "cell_type": "code",
     "collapsed": false,
     "input": [],
     "language": "python",
     "metadata": {},
     "outputs": [],
     "prompt_number": 391
    },
    {
     "cell_type": "code",
     "collapsed": false,
     "input": [],
     "language": "python",
     "metadata": {},
     "outputs": [],
     "prompt_number": 391
    },
    {
     "cell_type": "code",
     "collapsed": false,
     "input": [
      "# Plot the predicted values and actual\n",
      "\n",
      "plot_start = test_start\n",
      "plot_end = test_end\n",
      "\n",
      "fig = plt.figure()\n",
      "plt_predict = predict_y[plot_start:plot_end].plot()\n",
      "plt_actual = y_test_df[plot_start:plot_end].plot(grid=False)\n",
      "plt.ylabel('Electricity Usage (kWh)')\n",
      "plt.legend(['Predicted','Actual'],loc='best')"
     ],
     "language": "python",
     "metadata": {},
     "outputs": [
      {
       "output_type": "pyout",
       "prompt_number": 365,
       "text": [
        "<matplotlib.legend.Legend at 0xad900b0>"
       ]
      },
      {
       "output_type": "display_data",
       "png": "[encoded data removed]"
      }
     ],
     "prompt_number": 365
    },
    {
     "cell_type": "markdown",
     "metadata": {},
     "source": [
      "Plot actual vs. prediced usage.  If prediction were perfect, all points would be on 45 degree line (y=x).\n"
     ]
    },
    {
     "cell_type": "code",
     "collapsed": false,
     "input": [
      "fig = plt.figure(figsize=(4,4))\n",
      "plot = plt.plot(y_test_df,predict_y,'x')\n",
      "plot45 = plt.plot([0,2],[0,2],'k')\n",
      "plt.xlim([0,2])\n",
      "plt.ylim([0,2])\n",
      "plt.xlabel('Actual Elec. Usage (kWh)')\n",
      "plt.ylabel('Predicted Elec. Usage (kWh)')"
     ],
     "language": "python",
     "metadata": {},
     "outputs": [
      {
       "output_type": "pyout",
       "prompt_number": 366,
       "text": [
        "<matplotlib.text.Text at 0xae2fdf0>"
       ]
      },
      {
       "output_type": "display_data",
       "png": "[encoded data removed]"
      }
     ],
     "prompt_number": 366
    },
    {
     "cell_type": "code",
     "collapsed": false,
     "input": [
      "%reset"
     ],
     "language": "python",
     "metadata": {},
     "outputs": [],
     "prompt_number": 367
    },
    {
     "cell_type": "code",
     "collapsed": false,
     "input": [
      "X_test_df"
     ],
     "language": "python",
     "metadata": {},
     "outputs": [
      {
       "html": [
        "<pre>\n",
        "&lt;class 'pandas.core.frame.DataFrame'&gt;\n",
        "DatetimeIndex: 168 entries, 2014-03-25 00:00:00 to 2014-03-31 23:00:00\n",
        "Data columns (total 73 columns):\n",
        "Atypical_Day    168  non-null values\n",
        "0               168  non-null values\n",
        "1               168  non-null values\n",
        "2               168  non-null values\n",
        "3               168  non-null values\n",
        "4               168  non-null values\n",
        "5               168  non-null values\n",
        "6               168  non-null values\n",
        "7               168  non-null values\n",
        "8               168  non-null values\n",
        "9               168  non-null values\n",
        "10              168  non-null values\n",
        "11              168  non-null values\n",
        "12              168  non-null values\n",
        "13              168  non-null values\n",
        "14              168  non-null values\n",
        "15              168  non-null values\n",
        "16              168  non-null values\n",
        "17              168  non-null values\n",
        "18              168  non-null values\n",
        "19              168  non-null values\n",
        "20              168  non-null values\n",
        "21              168  non-null values\n",
        "22              168  non-null values\n",
        "23              168  non-null values\n",
        "USAGE_t-1       168  non-null values\n",
        "tempF_t-1       168  non-null values\n",
        "hum_t-1         168  non-null values\n",
        "wspdMPH_t-1     168  non-null values\n",
        "USAGE_t-2       168  non-null values\n",
        "tempF_t-2       168  non-null values\n",
        "hum_t-2         168  non-null values\n",
        "wspdMPH_t-2     168  non-null values\n",
        "USAGE_t-3       168  non-null values\n",
        "tempF_t-3       168  non-null values\n",
        "hum_t-3         168  non-null values\n",
        "wspdMPH_t-3     168  non-null values\n",
        "USAGE_t-4       168  non-null values\n",
        "tempF_t-4       168  non-null values\n",
        "hum_t-4         168  non-null values\n",
        "wspdMPH_t-4     168  non-null values\n",
        "USAGE_t-5       168  non-null values\n",
        "tempF_t-5       168  non-null values\n",
        "hum_t-5         168  non-null values\n",
        "wspdMPH_t-5     168  non-null values\n",
        "USAGE_t-6       168  non-null values\n",
        "tempF_t-6       168  non-null values\n",
        "hum_t-6         168  non-null values\n",
        "wspdMPH_t-6     168  non-null values\n",
        "USAGE_t-7       168  non-null values\n",
        "tempF_t-7       168  non-null values\n",
        "hum_t-7         168  non-null values\n",
        "wspdMPH_t-7     168  non-null values\n",
        "USAGE_t-8       168  non-null values\n",
        "tempF_t-8       168  non-null values\n",
        "hum_t-8         168  non-null values\n",
        "wspdMPH_t-8     168  non-null values\n",
        "USAGE_t-9       168  non-null values\n",
        "tempF_t-9       168  non-null values\n",
        "hum_t-9         168  non-null values\n",
        "wspdMPH_t-9     168  non-null values\n",
        "USAGE_t-10      168  non-null values\n",
        "tempF_t-10      168  non-null values\n",
        "hum_t-10        168  non-null values\n",
        "wspdMPH_t-10    168  non-null values\n",
        "USAGE_t-11      168  non-null values\n",
        "tempF_t-11      168  non-null values\n",
        "hum_t-11        168  non-null values\n",
        "wspdMPH_t-11    168  non-null values\n",
        "USAGE_t-12      168  non-null values\n",
        "tempF_t-12      168  non-null values\n",
        "hum_t-12        168  non-null values\n",
        "wspdMPH_t-12    168  non-null values\n",
        "dtypes: float64(73)\n",
        "</pre>"
       ],
       "output_type": "pyout",
       "prompt_number": 432,
       "text": [
        "<class 'pandas.core.frame.DataFrame'>\n",
        "DatetimeIndex: 168 entries, 2014-03-25 00:00:00 to 2014-03-31 23:00:00\n",
        "Data columns (total 73 columns):\n",
        "Atypical_Day    168  non-null values\n",
        "0               168  non-null values\n",
        "1               168  non-null values\n",
        "2               168  non-null values\n",
        "3               168  non-null values\n",
        "4               168  non-null values\n",
        "5               168  non-null values\n",
        "6               168  non-null values\n",
        "7               168  non-null values\n",
        "8               168  non-null values\n",
        "9               168  non-null values\n",
        "10              168  non-null values\n",
        "11              168  non-null values\n",
        "12              168  non-null values\n",
        "13              168  non-null values\n",
        "14              168  non-null values\n",
        "15              168  non-null values\n",
        "16              168  non-null values\n",
        "17              168  non-null values\n",
        "18              168  non-null values\n",
        "19              168  non-null values\n",
        "20              168  non-null values\n",
        "21              168  non-null values\n",
        "22              168  non-null values\n",
        "23              168  non-null values\n",
        "USAGE_t-1       168  non-null values\n",
        "tempF_t-1       168  non-null values\n",
        "hum_t-1         168  non-null values\n",
        "wspdMPH_t-1     168  non-null values\n",
        "USAGE_t-2       168  non-null values\n",
        "tempF_t-2       168  non-null values\n",
        "hum_t-2         168  non-null values\n",
        "wspdMPH_t-2     168  non-null values\n",
        "USAGE_t-3       168  non-null values\n",
        "tempF_t-3       168  non-null values\n",
        "hum_t-3         168  non-null values\n",
        "wspdMPH_t-3     168  non-null values\n",
        "USAGE_t-4       168  non-null values\n",
        "tempF_t-4       168  non-null values\n",
        "hum_t-4         168  non-null values\n",
        "wspdMPH_t-4     168  non-null values\n",
        "USAGE_t-5       168  non-null values\n",
        "tempF_t-5       168  non-null values\n",
        "hum_t-5         168  non-null values\n",
        "wspdMPH_t-5     168  non-null values\n",
        "USAGE_t-6       168  non-null values\n",
        "tempF_t-6       168  non-null values\n",
        "hum_t-6         168  non-null values\n",
        "wspdMPH_t-6     168  non-null values\n",
        "USAGE_t-7       168  non-null values\n",
        "tempF_t-7       168  non-null values\n",
        "hum_t-7         168  non-null values\n",
        "wspdMPH_t-7     168  non-null values\n",
        "USAGE_t-8       168  non-null values\n",
        "tempF_t-8       168  non-null values\n",
        "hum_t-8         168  non-null values\n",
        "wspdMPH_t-8     168  non-null values\n",
        "USAGE_t-9       168  non-null values\n",
        "tempF_t-9       168  non-null values\n",
        "hum_t-9         168  non-null values\n",
        "wspdMPH_t-9     168  non-null values\n",
        "USAGE_t-10      168  non-null values\n",
        "tempF_t-10      168  non-null values\n",
        "hum_t-10        168  non-null values\n",
        "wspdMPH_t-10    168  non-null values\n",
        "USAGE_t-11      168  non-null values\n",
        "tempF_t-11      168  non-null values\n",
        "hum_t-11        168  non-null values\n",
        "wspdMPH_t-11    168  non-null values\n",
        "USAGE_t-12      168  non-null values\n",
        "tempF_t-12      168  non-null values\n",
        "hum_t-12        168  non-null values\n",
        "wspdMPH_t-12    168  non-null values\n",
        "dtypes: float64(73)"
       ]
      }
     ],
     "prompt_number": 432
    },
    {
     "cell_type": "code",
     "collapsed": false,
     "input": [],
     "language": "python",
     "metadata": {},
     "outputs": [],
     "prompt_number": 432
    },
    {
     "cell_type": "code",
     "collapsed": false,
     "input": [],
     "language": "python",
     "metadata": {},
     "outputs": [],
     "prompt_number": 432
    },
    {
     "cell_type": "code",
     "collapsed": false,
     "input": [],
     "language": "python",
     "metadata": {},
     "outputs": []
    },
    {
     "cell_type": "code",
     "collapsed": false,
     "input": [],
     "language": "python",
     "metadata": {},
     "outputs": []
    },
    {
     "cell_type": "code",
     "collapsed": false,
     "input": [],
     "language": "python",
     "metadata": {},
     "outputs": []
    }
   ],
   "metadata": {}
  }
 ]
}