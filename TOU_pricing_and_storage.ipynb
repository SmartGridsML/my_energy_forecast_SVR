{
 "metadata": {
  "name": "TOU_pricing_and_storage"
 },
 "nbformat": 3,
 "nbformat_minor": 0,
 "worksheets": [
  {
   "cells": [
    {
     "cell_type": "heading",
     "level": 1,
     "metadata": {},
     "source": [
      "TOU Pricing and Storage"
     ]
    },
    {
     "cell_type": "markdown",
     "metadata": {},
     "source": []
    },
    {
     "cell_type": "code",
     "collapsed": false,
     "input": [
      "import pandas as pd\n",
      "import numpy as np"
     ],
     "language": "python",
     "metadata": {},
     "outputs": [],
     "prompt_number": 2
    },
    {
     "cell_type": "markdown",
     "metadata": {},
     "source": [
      "Setting up some variables.  \n",
      "\n",
      "Assuming we're using deep discharge lead acid batteries like this one on Amazon:\n",
      "http://www.amazon.com/gp/product/B0044Z8DJW/ref=ox_sc_act_title_1?ie=UTF8&psc=1&smid=A10QFO4IXVZNRN"
     ]
    },
    {
     "cell_type": "code",
     "collapsed": false,
     "input": [
      "inverter_controller_cost = 500. # ballpark\n",
      "storage_cost_Wh = 200./1200. # cost per Watt-hour based on link above\n",
      "storage_size_Wh = 12.*3000.  # storage size in Watt-hours, starting point 12 hours at 3 kW"
     ],
     "language": "python",
     "metadata": {},
     "outputs": [],
     "prompt_number": 10
    },
    {
     "cell_type": "code",
     "collapsed": false,
     "input": [],
     "language": "python",
     "metadata": {},
     "outputs": [],
     "prompt_number": 10
    },
    {
     "cell_type": "code",
     "collapsed": false,
     "input": [],
     "language": "python",
     "metadata": {},
     "outputs": []
    }
   ],
   "metadata": {}
  }
 ]
}